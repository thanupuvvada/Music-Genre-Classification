{
  "cells": [
    {
      "cell_type": "markdown",
      "id": "7026c2d2-3f3c-4730-b404-38064f4b8b0b",
      "metadata": {
        "id": "7026c2d2-3f3c-4730-b404-38064f4b8b0b"
      },
      "source": [
        "# Importing Necessary Libraries"
      ]
    },
    {
      "cell_type": "code",
      "source": [
        "from google.colab import drive\n",
        "drive.mount('/content/drive')"
      ],
      "metadata": {
        "colab": {
          "base_uri": "https://localhost:8080/"
        },
        "id": "hwUuT01G1b_s",
        "outputId": "dc0ad6a6-47b5-42b0-94e8-a90e22e2ed4c"
      },
      "id": "hwUuT01G1b_s",
      "execution_count": 1,
      "outputs": [
        {
          "output_type": "stream",
          "name": "stdout",
          "text": [
            "Mounted at /content/drive\n"
          ]
        }
      ]
    },
    {
      "cell_type": "code",
      "execution_count": 3,
      "id": "f31e0b37-6485-452f-9492-b9ea0ba3e89a",
      "metadata": {
        "id": "f31e0b37-6485-452f-9492-b9ea0ba3e89a"
      },
      "outputs": [],
      "source": [
        "import numpy as np\n",
        "import pandas as pd\n",
        "import matplotlib.pyplot as plt\n",
        "import seaborn as sns\n",
        "from sklearn import svm, tree, linear_model, ensemble, model_selection, neighbors, preprocessing, decomposition, metrics, base\n",
        "import tensorflow as tf"
      ]
    },
    {
      "cell_type": "markdown",
      "id": "00e95eb3-db61-4cb9-9bff-3f424b26bc24",
      "metadata": {
        "id": "00e95eb3-db61-4cb9-9bff-3f424b26bc24"
      },
      "source": [
        "# Loading, Analyzing and Visualizing the Data"
      ]
    },
    {
      "cell_type": "code",
      "execution_count": 4,
      "id": "211165eb-1aa6-485b-8e42-0160289725ad",
      "metadata": {
        "id": "211165eb-1aa6-485b-8e42-0160289725ad",
        "outputId": "0e0b276a-1e83-4d3d-c994-4979cfbe6a4e",
        "colab": {
          "base_uri": "https://localhost:8080/"
        }
      },
      "outputs": [
        {
          "output_type": "stream",
          "name": "stdout",
          "text": [
            "(50005, 18)\n"
          ]
        }
      ],
      "source": [
        "df = pd.read_csv(\"/content/drive/MyDrive/music_genre.csv\")\n",
        "print(df.shape)"
      ]
    },
    {
      "cell_type": "code",
      "execution_count": 5,
      "id": "5c3b0498-48b9-4ed1-afb1-2afed9ed8d20",
      "metadata": {
        "id": "5c3b0498-48b9-4ed1-afb1-2afed9ed8d20",
        "outputId": "8935bf32-feef-4c23-d622-8c685b91d2f4",
        "colab": {
          "base_uri": "https://localhost:8080/",
          "height": 487
        }
      },
      "outputs": [
        {
          "output_type": "execute_result",
          "data": {
            "text/plain": [
              "   instance_id           artist_name            track_name  popularity  \\\n",
              "0      32894.0              Röyksopp  Röyksopp's Night Out        27.0   \n",
              "1      46652.0  Thievery Corporation      The Shining Path        31.0   \n",
              "2      30097.0        Dillon Francis             Hurricane        28.0   \n",
              "3      62177.0              Dubloadz                 Nitro        34.0   \n",
              "4      24907.0           What So Not      Divide & Conquer        32.0   \n",
              "5      89064.0            Axel Boman                 Hello        47.0   \n",
              "6      43760.0        Jordan Comolli                 Clash        46.0   \n",
              "7      30738.0                Hraach               Delirio        43.0   \n",
              "8      84950.0                 Kayzo           NEVER ALONE        39.0   \n",
              "9      56950.0                Shlump            Lazer Beam        22.0   \n",
              "\n",
              "   acousticness  danceability  duration_ms  energy  instrumentalness key  \\\n",
              "0       0.00468         0.652         -1.0   0.941          0.792000  A#   \n",
              "1       0.01270         0.622     218293.0   0.890          0.950000   D   \n",
              "2       0.00306         0.620     215613.0   0.755          0.011800  G#   \n",
              "3       0.02540         0.774     166875.0   0.700          0.002530  C#   \n",
              "4       0.00465         0.638     222369.0   0.587          0.909000  F#   \n",
              "5       0.00523         0.755     519468.0   0.731          0.854000   D   \n",
              "6       0.02890         0.572     214408.0   0.803          0.000008   B   \n",
              "7       0.02970         0.809     416132.0   0.706          0.903000   G   \n",
              "8       0.00299         0.509     292800.0   0.921          0.000276   F   \n",
              "9       0.00934         0.578     204800.0   0.731          0.011200   A   \n",
              "\n",
              "   liveness  loudness   mode  speechiness    tempo obtained_date  valence  \\\n",
              "0    0.1150    -5.201  Minor       0.0748  100.889         4-Apr    0.759   \n",
              "1    0.1240    -7.043  Minor       0.0300  115.002         4-Apr    0.531   \n",
              "2    0.5340    -4.617  Major       0.0345  127.994         4-Apr    0.333   \n",
              "3    0.1570    -4.498  Major       0.2390  128.014         4-Apr    0.270   \n",
              "4    0.1570    -6.266  Major       0.0413  145.036         4-Apr    0.323   \n",
              "5    0.2160   -10.517  Minor       0.0412        ?         4-Apr    0.614   \n",
              "6    0.1060    -4.294  Major       0.3510  149.995         4-Apr    0.230   \n",
              "7    0.0635    -9.339  Minor       0.0484  120.008         4-Apr    0.761   \n",
              "8    0.1780    -3.175  Minor       0.2680  149.948         4-Apr    0.273   \n",
              "9    0.1110    -7.091  Minor       0.1730  139.933         4-Apr    0.203   \n",
              "\n",
              "  music_genre  \n",
              "0  Electronic  \n",
              "1  Electronic  \n",
              "2  Electronic  \n",
              "3  Electronic  \n",
              "4  Electronic  \n",
              "5  Electronic  \n",
              "6  Electronic  \n",
              "7  Electronic  \n",
              "8  Electronic  \n",
              "9  Electronic  "
            ],
            "text/html": [
              "\n",
              "  <div id=\"df-c1ca6ef1-1d0c-419a-a740-94e4dbcb65b3\" class=\"colab-df-container\">\n",
              "    <div>\n",
              "<style scoped>\n",
              "    .dataframe tbody tr th:only-of-type {\n",
              "        vertical-align: middle;\n",
              "    }\n",
              "\n",
              "    .dataframe tbody tr th {\n",
              "        vertical-align: top;\n",
              "    }\n",
              "\n",
              "    .dataframe thead th {\n",
              "        text-align: right;\n",
              "    }\n",
              "</style>\n",
              "<table border=\"1\" class=\"dataframe\">\n",
              "  <thead>\n",
              "    <tr style=\"text-align: right;\">\n",
              "      <th></th>\n",
              "      <th>instance_id</th>\n",
              "      <th>artist_name</th>\n",
              "      <th>track_name</th>\n",
              "      <th>popularity</th>\n",
              "      <th>acousticness</th>\n",
              "      <th>danceability</th>\n",
              "      <th>duration_ms</th>\n",
              "      <th>energy</th>\n",
              "      <th>instrumentalness</th>\n",
              "      <th>key</th>\n",
              "      <th>liveness</th>\n",
              "      <th>loudness</th>\n",
              "      <th>mode</th>\n",
              "      <th>speechiness</th>\n",
              "      <th>tempo</th>\n",
              "      <th>obtained_date</th>\n",
              "      <th>valence</th>\n",
              "      <th>music_genre</th>\n",
              "    </tr>\n",
              "  </thead>\n",
              "  <tbody>\n",
              "    <tr>\n",
              "      <th>0</th>\n",
              "      <td>32894.0</td>\n",
              "      <td>Röyksopp</td>\n",
              "      <td>Röyksopp's Night Out</td>\n",
              "      <td>27.0</td>\n",
              "      <td>0.00468</td>\n",
              "      <td>0.652</td>\n",
              "      <td>-1.0</td>\n",
              "      <td>0.941</td>\n",
              "      <td>0.792000</td>\n",
              "      <td>A#</td>\n",
              "      <td>0.1150</td>\n",
              "      <td>-5.201</td>\n",
              "      <td>Minor</td>\n",
              "      <td>0.0748</td>\n",
              "      <td>100.889</td>\n",
              "      <td>4-Apr</td>\n",
              "      <td>0.759</td>\n",
              "      <td>Electronic</td>\n",
              "    </tr>\n",
              "    <tr>\n",
              "      <th>1</th>\n",
              "      <td>46652.0</td>\n",
              "      <td>Thievery Corporation</td>\n",
              "      <td>The Shining Path</td>\n",
              "      <td>31.0</td>\n",
              "      <td>0.01270</td>\n",
              "      <td>0.622</td>\n",
              "      <td>218293.0</td>\n",
              "      <td>0.890</td>\n",
              "      <td>0.950000</td>\n",
              "      <td>D</td>\n",
              "      <td>0.1240</td>\n",
              "      <td>-7.043</td>\n",
              "      <td>Minor</td>\n",
              "      <td>0.0300</td>\n",
              "      <td>115.002</td>\n",
              "      <td>4-Apr</td>\n",
              "      <td>0.531</td>\n",
              "      <td>Electronic</td>\n",
              "    </tr>\n",
              "    <tr>\n",
              "      <th>2</th>\n",
              "      <td>30097.0</td>\n",
              "      <td>Dillon Francis</td>\n",
              "      <td>Hurricane</td>\n",
              "      <td>28.0</td>\n",
              "      <td>0.00306</td>\n",
              "      <td>0.620</td>\n",
              "      <td>215613.0</td>\n",
              "      <td>0.755</td>\n",
              "      <td>0.011800</td>\n",
              "      <td>G#</td>\n",
              "      <td>0.5340</td>\n",
              "      <td>-4.617</td>\n",
              "      <td>Major</td>\n",
              "      <td>0.0345</td>\n",
              "      <td>127.994</td>\n",
              "      <td>4-Apr</td>\n",
              "      <td>0.333</td>\n",
              "      <td>Electronic</td>\n",
              "    </tr>\n",
              "    <tr>\n",
              "      <th>3</th>\n",
              "      <td>62177.0</td>\n",
              "      <td>Dubloadz</td>\n",
              "      <td>Nitro</td>\n",
              "      <td>34.0</td>\n",
              "      <td>0.02540</td>\n",
              "      <td>0.774</td>\n",
              "      <td>166875.0</td>\n",
              "      <td>0.700</td>\n",
              "      <td>0.002530</td>\n",
              "      <td>C#</td>\n",
              "      <td>0.1570</td>\n",
              "      <td>-4.498</td>\n",
              "      <td>Major</td>\n",
              "      <td>0.2390</td>\n",
              "      <td>128.014</td>\n",
              "      <td>4-Apr</td>\n",
              "      <td>0.270</td>\n",
              "      <td>Electronic</td>\n",
              "    </tr>\n",
              "    <tr>\n",
              "      <th>4</th>\n",
              "      <td>24907.0</td>\n",
              "      <td>What So Not</td>\n",
              "      <td>Divide &amp; Conquer</td>\n",
              "      <td>32.0</td>\n",
              "      <td>0.00465</td>\n",
              "      <td>0.638</td>\n",
              "      <td>222369.0</td>\n",
              "      <td>0.587</td>\n",
              "      <td>0.909000</td>\n",
              "      <td>F#</td>\n",
              "      <td>0.1570</td>\n",
              "      <td>-6.266</td>\n",
              "      <td>Major</td>\n",
              "      <td>0.0413</td>\n",
              "      <td>145.036</td>\n",
              "      <td>4-Apr</td>\n",
              "      <td>0.323</td>\n",
              "      <td>Electronic</td>\n",
              "    </tr>\n",
              "    <tr>\n",
              "      <th>5</th>\n",
              "      <td>89064.0</td>\n",
              "      <td>Axel Boman</td>\n",
              "      <td>Hello</td>\n",
              "      <td>47.0</td>\n",
              "      <td>0.00523</td>\n",
              "      <td>0.755</td>\n",
              "      <td>519468.0</td>\n",
              "      <td>0.731</td>\n",
              "      <td>0.854000</td>\n",
              "      <td>D</td>\n",
              "      <td>0.2160</td>\n",
              "      <td>-10.517</td>\n",
              "      <td>Minor</td>\n",
              "      <td>0.0412</td>\n",
              "      <td>?</td>\n",
              "      <td>4-Apr</td>\n",
              "      <td>0.614</td>\n",
              "      <td>Electronic</td>\n",
              "    </tr>\n",
              "    <tr>\n",
              "      <th>6</th>\n",
              "      <td>43760.0</td>\n",
              "      <td>Jordan Comolli</td>\n",
              "      <td>Clash</td>\n",
              "      <td>46.0</td>\n",
              "      <td>0.02890</td>\n",
              "      <td>0.572</td>\n",
              "      <td>214408.0</td>\n",
              "      <td>0.803</td>\n",
              "      <td>0.000008</td>\n",
              "      <td>B</td>\n",
              "      <td>0.1060</td>\n",
              "      <td>-4.294</td>\n",
              "      <td>Major</td>\n",
              "      <td>0.3510</td>\n",
              "      <td>149.995</td>\n",
              "      <td>4-Apr</td>\n",
              "      <td>0.230</td>\n",
              "      <td>Electronic</td>\n",
              "    </tr>\n",
              "    <tr>\n",
              "      <th>7</th>\n",
              "      <td>30738.0</td>\n",
              "      <td>Hraach</td>\n",
              "      <td>Delirio</td>\n",
              "      <td>43.0</td>\n",
              "      <td>0.02970</td>\n",
              "      <td>0.809</td>\n",
              "      <td>416132.0</td>\n",
              "      <td>0.706</td>\n",
              "      <td>0.903000</td>\n",
              "      <td>G</td>\n",
              "      <td>0.0635</td>\n",
              "      <td>-9.339</td>\n",
              "      <td>Minor</td>\n",
              "      <td>0.0484</td>\n",
              "      <td>120.008</td>\n",
              "      <td>4-Apr</td>\n",
              "      <td>0.761</td>\n",
              "      <td>Electronic</td>\n",
              "    </tr>\n",
              "    <tr>\n",
              "      <th>8</th>\n",
              "      <td>84950.0</td>\n",
              "      <td>Kayzo</td>\n",
              "      <td>NEVER ALONE</td>\n",
              "      <td>39.0</td>\n",
              "      <td>0.00299</td>\n",
              "      <td>0.509</td>\n",
              "      <td>292800.0</td>\n",
              "      <td>0.921</td>\n",
              "      <td>0.000276</td>\n",
              "      <td>F</td>\n",
              "      <td>0.1780</td>\n",
              "      <td>-3.175</td>\n",
              "      <td>Minor</td>\n",
              "      <td>0.2680</td>\n",
              "      <td>149.948</td>\n",
              "      <td>4-Apr</td>\n",
              "      <td>0.273</td>\n",
              "      <td>Electronic</td>\n",
              "    </tr>\n",
              "    <tr>\n",
              "      <th>9</th>\n",
              "      <td>56950.0</td>\n",
              "      <td>Shlump</td>\n",
              "      <td>Lazer Beam</td>\n",
              "      <td>22.0</td>\n",
              "      <td>0.00934</td>\n",
              "      <td>0.578</td>\n",
              "      <td>204800.0</td>\n",
              "      <td>0.731</td>\n",
              "      <td>0.011200</td>\n",
              "      <td>A</td>\n",
              "      <td>0.1110</td>\n",
              "      <td>-7.091</td>\n",
              "      <td>Minor</td>\n",
              "      <td>0.1730</td>\n",
              "      <td>139.933</td>\n",
              "      <td>4-Apr</td>\n",
              "      <td>0.203</td>\n",
              "      <td>Electronic</td>\n",
              "    </tr>\n",
              "  </tbody>\n",
              "</table>\n",
              "</div>\n",
              "    <div class=\"colab-df-buttons\">\n",
              "\n",
              "  <div class=\"colab-df-container\">\n",
              "    <button class=\"colab-df-convert\" onclick=\"convertToInteractive('df-c1ca6ef1-1d0c-419a-a740-94e4dbcb65b3')\"\n",
              "            title=\"Convert this dataframe to an interactive table.\"\n",
              "            style=\"display:none;\">\n",
              "\n",
              "  <svg xmlns=\"http://www.w3.org/2000/svg\" height=\"24px\" viewBox=\"0 -960 960 960\">\n",
              "    <path d=\"M120-120v-720h720v720H120Zm60-500h600v-160H180v160Zm220 220h160v-160H400v160Zm0 220h160v-160H400v160ZM180-400h160v-160H180v160Zm440 0h160v-160H620v160ZM180-180h160v-160H180v160Zm440 0h160v-160H620v160Z\"/>\n",
              "  </svg>\n",
              "    </button>\n",
              "\n",
              "  <style>\n",
              "    .colab-df-container {\n",
              "      display:flex;\n",
              "      gap: 12px;\n",
              "    }\n",
              "\n",
              "    .colab-df-convert {\n",
              "      background-color: #E8F0FE;\n",
              "      border: none;\n",
              "      border-radius: 50%;\n",
              "      cursor: pointer;\n",
              "      display: none;\n",
              "      fill: #1967D2;\n",
              "      height: 32px;\n",
              "      padding: 0 0 0 0;\n",
              "      width: 32px;\n",
              "    }\n",
              "\n",
              "    .colab-df-convert:hover {\n",
              "      background-color: #E2EBFA;\n",
              "      box-shadow: 0px 1px 2px rgba(60, 64, 67, 0.3), 0px 1px 3px 1px rgba(60, 64, 67, 0.15);\n",
              "      fill: #174EA6;\n",
              "    }\n",
              "\n",
              "    .colab-df-buttons div {\n",
              "      margin-bottom: 4px;\n",
              "    }\n",
              "\n",
              "    [theme=dark] .colab-df-convert {\n",
              "      background-color: #3B4455;\n",
              "      fill: #D2E3FC;\n",
              "    }\n",
              "\n",
              "    [theme=dark] .colab-df-convert:hover {\n",
              "      background-color: #434B5C;\n",
              "      box-shadow: 0px 1px 3px 1px rgba(0, 0, 0, 0.15);\n",
              "      filter: drop-shadow(0px 1px 2px rgba(0, 0, 0, 0.3));\n",
              "      fill: #FFFFFF;\n",
              "    }\n",
              "  </style>\n",
              "\n",
              "    <script>\n",
              "      const buttonEl =\n",
              "        document.querySelector('#df-c1ca6ef1-1d0c-419a-a740-94e4dbcb65b3 button.colab-df-convert');\n",
              "      buttonEl.style.display =\n",
              "        google.colab.kernel.accessAllowed ? 'block' : 'none';\n",
              "\n",
              "      async function convertToInteractive(key) {\n",
              "        const element = document.querySelector('#df-c1ca6ef1-1d0c-419a-a740-94e4dbcb65b3');\n",
              "        const dataTable =\n",
              "          await google.colab.kernel.invokeFunction('convertToInteractive',\n",
              "                                                    [key], {});\n",
              "        if (!dataTable) return;\n",
              "\n",
              "        const docLinkHtml = 'Like what you see? Visit the ' +\n",
              "          '<a target=\"_blank\" href=https://colab.research.google.com/notebooks/data_table.ipynb>data table notebook</a>'\n",
              "          + ' to learn more about interactive tables.';\n",
              "        element.innerHTML = '';\n",
              "        dataTable['output_type'] = 'display_data';\n",
              "        await google.colab.output.renderOutput(dataTable, element);\n",
              "        const docLink = document.createElement('div');\n",
              "        docLink.innerHTML = docLinkHtml;\n",
              "        element.appendChild(docLink);\n",
              "      }\n",
              "    </script>\n",
              "  </div>\n",
              "\n",
              "\n",
              "<div id=\"df-d83861a7-ca9e-4b31-a3a6-15af93e8659b\">\n",
              "  <button class=\"colab-df-quickchart\" onclick=\"quickchart('df-d83861a7-ca9e-4b31-a3a6-15af93e8659b')\"\n",
              "            title=\"Suggest charts\"\n",
              "            style=\"display:none;\">\n",
              "\n",
              "<svg xmlns=\"http://www.w3.org/2000/svg\" height=\"24px\"viewBox=\"0 0 24 24\"\n",
              "     width=\"24px\">\n",
              "    <g>\n",
              "        <path d=\"M19 3H5c-1.1 0-2 .9-2 2v14c0 1.1.9 2 2 2h14c1.1 0 2-.9 2-2V5c0-1.1-.9-2-2-2zM9 17H7v-7h2v7zm4 0h-2V7h2v10zm4 0h-2v-4h2v4z\"/>\n",
              "    </g>\n",
              "</svg>\n",
              "  </button>\n",
              "\n",
              "<style>\n",
              "  .colab-df-quickchart {\n",
              "      --bg-color: #E8F0FE;\n",
              "      --fill-color: #1967D2;\n",
              "      --hover-bg-color: #E2EBFA;\n",
              "      --hover-fill-color: #174EA6;\n",
              "      --disabled-fill-color: #AAA;\n",
              "      --disabled-bg-color: #DDD;\n",
              "  }\n",
              "\n",
              "  [theme=dark] .colab-df-quickchart {\n",
              "      --bg-color: #3B4455;\n",
              "      --fill-color: #D2E3FC;\n",
              "      --hover-bg-color: #434B5C;\n",
              "      --hover-fill-color: #FFFFFF;\n",
              "      --disabled-bg-color: #3B4455;\n",
              "      --disabled-fill-color: #666;\n",
              "  }\n",
              "\n",
              "  .colab-df-quickchart {\n",
              "    background-color: var(--bg-color);\n",
              "    border: none;\n",
              "    border-radius: 50%;\n",
              "    cursor: pointer;\n",
              "    display: none;\n",
              "    fill: var(--fill-color);\n",
              "    height: 32px;\n",
              "    padding: 0;\n",
              "    width: 32px;\n",
              "  }\n",
              "\n",
              "  .colab-df-quickchart:hover {\n",
              "    background-color: var(--hover-bg-color);\n",
              "    box-shadow: 0 1px 2px rgba(60, 64, 67, 0.3), 0 1px 3px 1px rgba(60, 64, 67, 0.15);\n",
              "    fill: var(--button-hover-fill-color);\n",
              "  }\n",
              "\n",
              "  .colab-df-quickchart-complete:disabled,\n",
              "  .colab-df-quickchart-complete:disabled:hover {\n",
              "    background-color: var(--disabled-bg-color);\n",
              "    fill: var(--disabled-fill-color);\n",
              "    box-shadow: none;\n",
              "  }\n",
              "\n",
              "  .colab-df-spinner {\n",
              "    border: 2px solid var(--fill-color);\n",
              "    border-color: transparent;\n",
              "    border-bottom-color: var(--fill-color);\n",
              "    animation:\n",
              "      spin 1s steps(1) infinite;\n",
              "  }\n",
              "\n",
              "  @keyframes spin {\n",
              "    0% {\n",
              "      border-color: transparent;\n",
              "      border-bottom-color: var(--fill-color);\n",
              "      border-left-color: var(--fill-color);\n",
              "    }\n",
              "    20% {\n",
              "      border-color: transparent;\n",
              "      border-left-color: var(--fill-color);\n",
              "      border-top-color: var(--fill-color);\n",
              "    }\n",
              "    30% {\n",
              "      border-color: transparent;\n",
              "      border-left-color: var(--fill-color);\n",
              "      border-top-color: var(--fill-color);\n",
              "      border-right-color: var(--fill-color);\n",
              "    }\n",
              "    40% {\n",
              "      border-color: transparent;\n",
              "      border-right-color: var(--fill-color);\n",
              "      border-top-color: var(--fill-color);\n",
              "    }\n",
              "    60% {\n",
              "      border-color: transparent;\n",
              "      border-right-color: var(--fill-color);\n",
              "    }\n",
              "    80% {\n",
              "      border-color: transparent;\n",
              "      border-right-color: var(--fill-color);\n",
              "      border-bottom-color: var(--fill-color);\n",
              "    }\n",
              "    90% {\n",
              "      border-color: transparent;\n",
              "      border-bottom-color: var(--fill-color);\n",
              "    }\n",
              "  }\n",
              "</style>\n",
              "\n",
              "  <script>\n",
              "    async function quickchart(key) {\n",
              "      const quickchartButtonEl =\n",
              "        document.querySelector('#' + key + ' button');\n",
              "      quickchartButtonEl.disabled = true;  // To prevent multiple clicks.\n",
              "      quickchartButtonEl.classList.add('colab-df-spinner');\n",
              "      try {\n",
              "        const charts = await google.colab.kernel.invokeFunction(\n",
              "            'suggestCharts', [key], {});\n",
              "      } catch (error) {\n",
              "        console.error('Error during call to suggestCharts:', error);\n",
              "      }\n",
              "      quickchartButtonEl.classList.remove('colab-df-spinner');\n",
              "      quickchartButtonEl.classList.add('colab-df-quickchart-complete');\n",
              "    }\n",
              "    (() => {\n",
              "      let quickchartButtonEl =\n",
              "        document.querySelector('#df-d83861a7-ca9e-4b31-a3a6-15af93e8659b button');\n",
              "      quickchartButtonEl.style.display =\n",
              "        google.colab.kernel.accessAllowed ? 'block' : 'none';\n",
              "    })();\n",
              "  </script>\n",
              "</div>\n",
              "    </div>\n",
              "  </div>\n"
            ],
            "application/vnd.google.colaboratory.intrinsic+json": {
              "type": "dataframe",
              "variable_name": "df",
              "summary": "{\n  \"name\": \"df\",\n  \"rows\": 50005,\n  \"fields\": [\n    {\n      \"column\": \"instance_id\",\n      \"properties\": {\n        \"dtype\": \"number\",\n        \"std\": 20725.256252878364,\n        \"min\": 20002.0,\n        \"max\": 91759.0,\n        \"num_unique_values\": 50000,\n        \"samples\": [\n          24735.0,\n          41022.0,\n          69676.0\n        ],\n        \"semantic_type\": \"\",\n        \"description\": \"\"\n      }\n    },\n    {\n      \"column\": \"artist_name\",\n      \"properties\": {\n        \"dtype\": \"category\",\n        \"num_unique_values\": 6863,\n        \"samples\": [\n          \"Dan Cray Trio\",\n          \"Harry Connick, Jr.\",\n          \"Helen Kane\"\n        ],\n        \"semantic_type\": \"\",\n        \"description\": \"\"\n      }\n    },\n    {\n      \"column\": \"track_name\",\n      \"properties\": {\n        \"dtype\": \"string\",\n        \"num_unique_values\": 41699,\n        \"samples\": [\n          \"100\\u4e07\\u56de\\u306e\\u300cI love you\\u300d feat.\\u6709\\u83ef\",\n          \"We're Gonna Hold On\",\n          \"You (Remix) feat. Blueface - Remix\"\n        ],\n        \"semantic_type\": \"\",\n        \"description\": \"\"\n      }\n    },\n    {\n      \"column\": \"popularity\",\n      \"properties\": {\n        \"dtype\": \"number\",\n        \"std\": 15.54200843212106,\n        \"min\": 0.0,\n        \"max\": 99.0,\n        \"num_unique_values\": 99,\n        \"samples\": [\n          17.0,\n          66.0,\n          94.0\n        ],\n        \"semantic_type\": \"\",\n        \"description\": \"\"\n      }\n    },\n    {\n      \"column\": \"acousticness\",\n      \"properties\": {\n        \"dtype\": \"number\",\n        \"std\": 0.34134000649548435,\n        \"min\": 0.0,\n        \"max\": 0.996,\n        \"num_unique_values\": 4193,\n        \"samples\": [\n          0.000538,\n          0.00172,\n          0.0835\n        ],\n        \"semantic_type\": \"\",\n        \"description\": \"\"\n      }\n    },\n    {\n      \"column\": \"danceability\",\n      \"properties\": {\n        \"dtype\": \"number\",\n        \"std\": 0.17863194713667435,\n        \"min\": 0.0596,\n        \"max\": 0.986,\n        \"num_unique_values\": 1088,\n        \"samples\": [\n          0.468,\n          0.583,\n          0.838\n        ],\n        \"semantic_type\": \"\",\n        \"description\": \"\"\n      }\n    },\n    {\n      \"column\": \"duration_ms\",\n      \"properties\": {\n        \"dtype\": \"number\",\n        \"std\": 128671.95715703726,\n        \"min\": -1.0,\n        \"max\": 4830606.0,\n        \"num_unique_values\": 26028,\n        \"samples\": [\n          522760.0,\n          287067.0,\n          315847.0\n        ],\n        \"semantic_type\": \"\",\n        \"description\": \"\"\n      }\n    },\n    {\n      \"column\": \"energy\",\n      \"properties\": {\n        \"dtype\": \"number\",\n        \"std\": 0.26455926666021023,\n        \"min\": 0.000792,\n        \"max\": 0.999,\n        \"num_unique_values\": 2085,\n        \"samples\": [\n          0.0973,\n          0.0434,\n          0.00281\n        ],\n        \"semantic_type\": \"\",\n        \"description\": \"\"\n      }\n    },\n    {\n      \"column\": \"instrumentalness\",\n      \"properties\": {\n        \"dtype\": \"number\",\n        \"std\": 0.3254090738293429,\n        \"min\": 0.0,\n        \"max\": 0.996,\n        \"num_unique_values\": 5131,\n        \"samples\": [\n          0.000712,\n          0.0132,\n          0.00233\n        ],\n        \"semantic_type\": \"\",\n        \"description\": \"\"\n      }\n    },\n    {\n      \"column\": \"key\",\n      \"properties\": {\n        \"dtype\": \"category\",\n        \"num_unique_values\": 12,\n        \"samples\": [\n          \"E\",\n          \"C\",\n          \"A#\"\n        ],\n        \"semantic_type\": \"\",\n        \"description\": \"\"\n      }\n    },\n    {\n      \"column\": \"liveness\",\n      \"properties\": {\n        \"dtype\": \"number\",\n        \"std\": 0.16163706826910448,\n        \"min\": 0.00967,\n        \"max\": 1.0,\n        \"num_unique_values\": 1646,\n        \"samples\": [\n          0.0748,\n          0.728,\n          0.671\n        ],\n        \"semantic_type\": \"\",\n        \"description\": \"\"\n      }\n    },\n    {\n      \"column\": \"loudness\",\n      \"properties\": {\n        \"dtype\": \"number\",\n        \"std\": 6.162989635870876,\n        \"min\": -47.046,\n        \"max\": 3.744,\n        \"num_unique_values\": 17247,\n        \"samples\": [\n          -1.163,\n          -9.086,\n          -11.883\n        ],\n        \"semantic_type\": \"\",\n        \"description\": \"\"\n      }\n    },\n    {\n      \"column\": \"mode\",\n      \"properties\": {\n        \"dtype\": \"category\",\n        \"num_unique_values\": 2,\n        \"samples\": [\n          \"Major\",\n          \"Minor\"\n        ],\n        \"semantic_type\": \"\",\n        \"description\": \"\"\n      }\n    },\n    {\n      \"column\": \"speechiness\",\n      \"properties\": {\n        \"dtype\": \"number\",\n        \"std\": 0.10137318086399032,\n        \"min\": 0.0223,\n        \"max\": 0.942,\n        \"num_unique_values\": 1337,\n        \"samples\": [\n          0.0985,\n          0.467\n        ],\n        \"semantic_type\": \"\",\n        \"description\": \"\"\n      }\n    },\n    {\n      \"column\": \"tempo\",\n      \"properties\": {\n        \"dtype\": \"string\",\n        \"num_unique_values\": 29394,\n        \"samples\": [\n          \"110.575\",\n          \"163.191\"\n        ],\n        \"semantic_type\": \"\",\n        \"description\": \"\"\n      }\n    },\n    {\n      \"column\": \"obtained_date\",\n      \"properties\": {\n        \"dtype\": \"category\",\n        \"num_unique_values\": 5,\n        \"samples\": [\n          \"3-Apr\",\n          \"0/4\"\n        ],\n        \"semantic_type\": \"\",\n        \"description\": \"\"\n      }\n    },\n    {\n      \"column\": \"valence\",\n      \"properties\": {\n        \"dtype\": \"number\",\n        \"std\": 0.24711873574123613,\n        \"min\": 0.0,\n        \"max\": 0.992,\n        \"num_unique_values\": 1615,\n        \"samples\": [\n          0.299,\n          0.0767\n        ],\n        \"semantic_type\": \"\",\n        \"description\": \"\"\n      }\n    },\n    {\n      \"column\": \"music_genre\",\n      \"properties\": {\n        \"dtype\": \"category\",\n        \"num_unique_values\": 10,\n        \"samples\": [\n          \"Classical\",\n          \"Anime\"\n        ],\n        \"semantic_type\": \"\",\n        \"description\": \"\"\n      }\n    }\n  ]\n}"
            }
          },
          "metadata": {},
          "execution_count": 5
        }
      ],
      "source": [
        "df.head(10)"
      ]
    },
    {
      "cell_type": "code",
      "execution_count": null,
      "id": "5bc999e4-8484-4563-a88d-3d8b67a8f0bf",
      "metadata": {
        "id": "5bc999e4-8484-4563-a88d-3d8b67a8f0bf",
        "outputId": "aba31b36-5845-44a3-ed8b-8e489466b2f3"
      },
      "outputs": [
        {
          "data": {
            "text/html": [
              "<div>\n",
              "<style scoped>\n",
              "    .dataframe tbody tr th:only-of-type {\n",
              "        vertical-align: middle;\n",
              "    }\n",
              "\n",
              "    .dataframe tbody tr th {\n",
              "        vertical-align: top;\n",
              "    }\n",
              "\n",
              "    .dataframe thead th {\n",
              "        text-align: right;\n",
              "    }\n",
              "</style>\n",
              "<table border=\"1\" class=\"dataframe\">\n",
              "  <thead>\n",
              "    <tr style=\"text-align: right;\">\n",
              "      <th></th>\n",
              "      <th>instance_id</th>\n",
              "      <th>artist_name</th>\n",
              "      <th>track_name</th>\n",
              "      <th>popularity</th>\n",
              "      <th>acousticness</th>\n",
              "      <th>danceability</th>\n",
              "      <th>duration_ms</th>\n",
              "      <th>energy</th>\n",
              "      <th>instrumentalness</th>\n",
              "      <th>key</th>\n",
              "      <th>liveness</th>\n",
              "      <th>loudness</th>\n",
              "      <th>mode</th>\n",
              "      <th>speechiness</th>\n",
              "      <th>tempo</th>\n",
              "      <th>obtained_date</th>\n",
              "      <th>valence</th>\n",
              "      <th>music_genre</th>\n",
              "    </tr>\n",
              "  </thead>\n",
              "  <tbody>\n",
              "    <tr>\n",
              "      <th>50000</th>\n",
              "      <td>58878.0</td>\n",
              "      <td>BEXEY</td>\n",
              "      <td>GO GETTA</td>\n",
              "      <td>59.0</td>\n",
              "      <td>0.03340</td>\n",
              "      <td>0.913</td>\n",
              "      <td>-1.0</td>\n",
              "      <td>0.574</td>\n",
              "      <td>0.0</td>\n",
              "      <td>C#</td>\n",
              "      <td>0.119</td>\n",
              "      <td>-7.022</td>\n",
              "      <td>Major</td>\n",
              "      <td>0.2980</td>\n",
              "      <td>98.028</td>\n",
              "      <td>4-Apr</td>\n",
              "      <td>0.330</td>\n",
              "      <td>Hip-Hop</td>\n",
              "    </tr>\n",
              "    <tr>\n",
              "      <th>50001</th>\n",
              "      <td>43557.0</td>\n",
              "      <td>Roy Woods</td>\n",
              "      <td>Drama (feat. Drake)</td>\n",
              "      <td>72.0</td>\n",
              "      <td>0.15700</td>\n",
              "      <td>0.709</td>\n",
              "      <td>251860.0</td>\n",
              "      <td>0.362</td>\n",
              "      <td>0.0</td>\n",
              "      <td>B</td>\n",
              "      <td>0.109</td>\n",
              "      <td>-9.814</td>\n",
              "      <td>Major</td>\n",
              "      <td>0.0550</td>\n",
              "      <td>122.043</td>\n",
              "      <td>4-Apr</td>\n",
              "      <td>0.113</td>\n",
              "      <td>Hip-Hop</td>\n",
              "    </tr>\n",
              "    <tr>\n",
              "      <th>50002</th>\n",
              "      <td>39767.0</td>\n",
              "      <td>Berner</td>\n",
              "      <td>Lovin' Me (feat. Smiggz)</td>\n",
              "      <td>51.0</td>\n",
              "      <td>0.00597</td>\n",
              "      <td>0.693</td>\n",
              "      <td>189483.0</td>\n",
              "      <td>0.763</td>\n",
              "      <td>0.0</td>\n",
              "      <td>D</td>\n",
              "      <td>0.143</td>\n",
              "      <td>-5.443</td>\n",
              "      <td>Major</td>\n",
              "      <td>0.1460</td>\n",
              "      <td>131.079</td>\n",
              "      <td>4-Apr</td>\n",
              "      <td>0.395</td>\n",
              "      <td>Hip-Hop</td>\n",
              "    </tr>\n",
              "    <tr>\n",
              "      <th>50003</th>\n",
              "      <td>57944.0</td>\n",
              "      <td>The-Dream</td>\n",
              "      <td>Shawty Is Da Shit</td>\n",
              "      <td>65.0</td>\n",
              "      <td>0.08310</td>\n",
              "      <td>0.782</td>\n",
              "      <td>262773.0</td>\n",
              "      <td>0.472</td>\n",
              "      <td>0.0</td>\n",
              "      <td>G</td>\n",
              "      <td>0.106</td>\n",
              "      <td>-5.016</td>\n",
              "      <td>Minor</td>\n",
              "      <td>0.0441</td>\n",
              "      <td>75.886</td>\n",
              "      <td>4-Apr</td>\n",
              "      <td>0.354</td>\n",
              "      <td>Hip-Hop</td>\n",
              "    </tr>\n",
              "    <tr>\n",
              "      <th>50004</th>\n",
              "      <td>63470.0</td>\n",
              "      <td>Naughty By Nature</td>\n",
              "      <td>Hip Hop Hooray</td>\n",
              "      <td>67.0</td>\n",
              "      <td>0.10200</td>\n",
              "      <td>0.862</td>\n",
              "      <td>267267.0</td>\n",
              "      <td>0.642</td>\n",
              "      <td>0.0</td>\n",
              "      <td>F#</td>\n",
              "      <td>0.272</td>\n",
              "      <td>-13.652</td>\n",
              "      <td>Minor</td>\n",
              "      <td>0.1010</td>\n",
              "      <td>99.201</td>\n",
              "      <td>4-Apr</td>\n",
              "      <td>0.765</td>\n",
              "      <td>Hip-Hop</td>\n",
              "    </tr>\n",
              "  </tbody>\n",
              "</table>\n",
              "</div>"
            ],
            "text/plain": [
              "       instance_id        artist_name                track_name  popularity  \\\n",
              "50000      58878.0              BEXEY                  GO GETTA        59.0   \n",
              "50001      43557.0          Roy Woods       Drama (feat. Drake)        72.0   \n",
              "50002      39767.0             Berner  Lovin' Me (feat. Smiggz)        51.0   \n",
              "50003      57944.0          The-Dream         Shawty Is Da Shit        65.0   \n",
              "50004      63470.0  Naughty By Nature            Hip Hop Hooray        67.0   \n",
              "\n",
              "       acousticness  danceability  duration_ms  energy  instrumentalness key  \\\n",
              "50000       0.03340         0.913         -1.0   0.574               0.0  C#   \n",
              "50001       0.15700         0.709     251860.0   0.362               0.0   B   \n",
              "50002       0.00597         0.693     189483.0   0.763               0.0   D   \n",
              "50003       0.08310         0.782     262773.0   0.472               0.0   G   \n",
              "50004       0.10200         0.862     267267.0   0.642               0.0  F#   \n",
              "\n",
              "       liveness  loudness   mode  speechiness    tempo obtained_date  valence  \\\n",
              "50000     0.119    -7.022  Major       0.2980   98.028         4-Apr    0.330   \n",
              "50001     0.109    -9.814  Major       0.0550  122.043         4-Apr    0.113   \n",
              "50002     0.143    -5.443  Major       0.1460  131.079         4-Apr    0.395   \n",
              "50003     0.106    -5.016  Minor       0.0441   75.886         4-Apr    0.354   \n",
              "50004     0.272   -13.652  Minor       0.1010   99.201         4-Apr    0.765   \n",
              "\n",
              "      music_genre  \n",
              "50000     Hip-Hop  \n",
              "50001     Hip-Hop  \n",
              "50002     Hip-Hop  \n",
              "50003     Hip-Hop  \n",
              "50004     Hip-Hop  "
            ]
          },
          "execution_count": 362,
          "metadata": {},
          "output_type": "execute_result"
        }
      ],
      "source": [
        "df.tail()"
      ]
    },
    {
      "cell_type": "code",
      "execution_count": null,
      "id": "f50caf0f-fb65-4d68-877d-183e3598223a",
      "metadata": {
        "id": "f50caf0f-fb65-4d68-877d-183e3598223a",
        "outputId": "9a02a471-bf91-4039-cd7f-ddec9099cdb2"
      },
      "outputs": [
        {
          "name": "stdout",
          "output_type": "stream",
          "text": [
            "<class 'pandas.core.frame.DataFrame'>\n",
            "RangeIndex: 50005 entries, 0 to 50004\n",
            "Data columns (total 18 columns):\n",
            " #   Column            Non-Null Count  Dtype  \n",
            "---  ------            --------------  -----  \n",
            " 0   instance_id       50000 non-null  float64\n",
            " 1   artist_name       50000 non-null  object \n",
            " 2   track_name        50000 non-null  object \n",
            " 3   popularity        50000 non-null  float64\n",
            " 4   acousticness      50000 non-null  float64\n",
            " 5   danceability      50000 non-null  float64\n",
            " 6   duration_ms       50000 non-null  float64\n",
            " 7   energy            50000 non-null  float64\n",
            " 8   instrumentalness  50000 non-null  float64\n",
            " 9   key               50000 non-null  object \n",
            " 10  liveness          50000 non-null  float64\n",
            " 11  loudness          50000 non-null  float64\n",
            " 12  mode              50000 non-null  object \n",
            " 13  speechiness       50000 non-null  float64\n",
            " 14  tempo             50000 non-null  object \n",
            " 15  obtained_date     50000 non-null  object \n",
            " 16  valence           50000 non-null  float64\n",
            " 17  music_genre       50000 non-null  object \n",
            "dtypes: float64(11), object(7)\n",
            "memory usage: 6.9+ MB\n"
          ]
        }
      ],
      "source": [
        "df.info()"
      ]
    },
    {
      "cell_type": "code",
      "execution_count": null,
      "id": "52938e60-fdbe-48e5-a0d9-1bdb0fdd22a2",
      "metadata": {
        "id": "52938e60-fdbe-48e5-a0d9-1bdb0fdd22a2",
        "outputId": "d06b5acf-f432-41bf-f75f-a6d52e7ea05b"
      },
      "outputs": [
        {
          "name": "stdout",
          "output_type": "stream",
          "text": [
            "obtained_date\n",
            "4-Apr    44748\n",
            "3-Apr     4067\n",
            "5-Apr      784\n",
            "1-Apr      400\n",
            "0/4          1\n",
            "Name: count, dtype: int64\n"
          ]
        }
      ],
      "source": [
        "print(df[\"obtained_date\"].value_counts())"
      ]
    },
    {
      "cell_type": "code",
      "execution_count": null,
      "id": "35b9c7b6-44f6-4d98-8f89-904738e0a5ff",
      "metadata": {
        "id": "35b9c7b6-44f6-4d98-8f89-904738e0a5ff"
      },
      "outputs": [],
      "source": [
        "# for i in range(len(df[\"obtained_date\"])):\n",
        "#     if df[\"obtained_date\"][i] == \"0/4\":\n",
        "#         df[\"obtained_date\"][i] = None"
      ]
    },
    {
      "cell_type": "code",
      "execution_count": null,
      "id": "76b90250-3609-489e-9e58-a4a70d94d28b",
      "metadata": {
        "id": "76b90250-3609-489e-9e58-a4a70d94d28b",
        "outputId": "9647f12b-4b71-495e-9393-e83ec752fe1c"
      },
      "outputs": [
        {
          "name": "stdout",
          "output_type": "stream",
          "text": [
            "obtained_date\n",
            "4-Apr    44748\n",
            "3-Apr     4067\n",
            "5-Apr      784\n",
            "1-Apr      400\n",
            "0/4          1\n",
            "Name: count, dtype: int64\n"
          ]
        }
      ],
      "source": [
        "print(df[\"obtained_date\"].value_counts())"
      ]
    },
    {
      "cell_type": "code",
      "execution_count": null,
      "id": "4cd50acf-3462-4ce9-86b2-644068f5d240",
      "metadata": {
        "id": "4cd50acf-3462-4ce9-86b2-644068f5d240"
      },
      "outputs": [],
      "source": [
        "# datetime = pd.to_datetime(df[\"obtained_date\"], format = \"%d-%b\")\n",
        "# df[\"day\"] = datetime.dt.day"
      ]
    },
    {
      "cell_type": "code",
      "execution_count": null,
      "id": "0c2c30ce-e110-4c3a-aff0-0000e5b5ee88",
      "metadata": {
        "id": "0c2c30ce-e110-4c3a-aff0-0000e5b5ee88"
      },
      "outputs": [],
      "source": [
        "# Dropping irrelevant attributes\n",
        "\n",
        "df.drop([\"instance_id\", \"artist_name\", \"track_name\", \"key\", \"obtained_date\"], axis = 1, inplace = True)"
      ]
    },
    {
      "cell_type": "code",
      "execution_count": null,
      "id": "3f64ee7d-581c-44d5-b7f8-c9f753bd1ae2",
      "metadata": {
        "id": "3f64ee7d-581c-44d5-b7f8-c9f753bd1ae2",
        "outputId": "f86376a7-4f0f-48a2-fe70-7ded87c9c0f5"
      },
      "outputs": [
        {
          "data": {
            "text/html": [
              "<div>\n",
              "<style scoped>\n",
              "    .dataframe tbody tr th:only-of-type {\n",
              "        vertical-align: middle;\n",
              "    }\n",
              "\n",
              "    .dataframe tbody tr th {\n",
              "        vertical-align: top;\n",
              "    }\n",
              "\n",
              "    .dataframe thead th {\n",
              "        text-align: right;\n",
              "    }\n",
              "</style>\n",
              "<table border=\"1\" class=\"dataframe\">\n",
              "  <thead>\n",
              "    <tr style=\"text-align: right;\">\n",
              "      <th></th>\n",
              "      <th>popularity</th>\n",
              "      <th>acousticness</th>\n",
              "      <th>danceability</th>\n",
              "      <th>duration_ms</th>\n",
              "      <th>energy</th>\n",
              "      <th>instrumentalness</th>\n",
              "      <th>liveness</th>\n",
              "      <th>loudness</th>\n",
              "      <th>speechiness</th>\n",
              "      <th>valence</th>\n",
              "    </tr>\n",
              "  </thead>\n",
              "  <tbody>\n",
              "    <tr>\n",
              "      <th>count</th>\n",
              "      <td>50000.000000</td>\n",
              "      <td>50000.000000</td>\n",
              "      <td>50000.000000</td>\n",
              "      <td>5.000000e+04</td>\n",
              "      <td>50000.000000</td>\n",
              "      <td>50000.000000</td>\n",
              "      <td>50000.000000</td>\n",
              "      <td>50000.000000</td>\n",
              "      <td>50000.000000</td>\n",
              "      <td>50000.000000</td>\n",
              "    </tr>\n",
              "    <tr>\n",
              "      <th>mean</th>\n",
              "      <td>44.220420</td>\n",
              "      <td>0.306383</td>\n",
              "      <td>0.558241</td>\n",
              "      <td>2.212526e+05</td>\n",
              "      <td>0.599755</td>\n",
              "      <td>0.181601</td>\n",
              "      <td>0.193896</td>\n",
              "      <td>-9.133761</td>\n",
              "      <td>0.093586</td>\n",
              "      <td>0.456264</td>\n",
              "    </tr>\n",
              "    <tr>\n",
              "      <th>std</th>\n",
              "      <td>15.542008</td>\n",
              "      <td>0.341340</td>\n",
              "      <td>0.178632</td>\n",
              "      <td>1.286720e+05</td>\n",
              "      <td>0.264559</td>\n",
              "      <td>0.325409</td>\n",
              "      <td>0.161637</td>\n",
              "      <td>6.162990</td>\n",
              "      <td>0.101373</td>\n",
              "      <td>0.247119</td>\n",
              "    </tr>\n",
              "    <tr>\n",
              "      <th>min</th>\n",
              "      <td>0.000000</td>\n",
              "      <td>0.000000</td>\n",
              "      <td>0.059600</td>\n",
              "      <td>-1.000000e+00</td>\n",
              "      <td>0.000792</td>\n",
              "      <td>0.000000</td>\n",
              "      <td>0.009670</td>\n",
              "      <td>-47.046000</td>\n",
              "      <td>0.022300</td>\n",
              "      <td>0.000000</td>\n",
              "    </tr>\n",
              "    <tr>\n",
              "      <th>25%</th>\n",
              "      <td>34.000000</td>\n",
              "      <td>0.020000</td>\n",
              "      <td>0.442000</td>\n",
              "      <td>1.748000e+05</td>\n",
              "      <td>0.433000</td>\n",
              "      <td>0.000000</td>\n",
              "      <td>0.096900</td>\n",
              "      <td>-10.860000</td>\n",
              "      <td>0.036100</td>\n",
              "      <td>0.257000</td>\n",
              "    </tr>\n",
              "    <tr>\n",
              "      <th>50%</th>\n",
              "      <td>45.000000</td>\n",
              "      <td>0.144000</td>\n",
              "      <td>0.568000</td>\n",
              "      <td>2.192810e+05</td>\n",
              "      <td>0.643000</td>\n",
              "      <td>0.000158</td>\n",
              "      <td>0.126000</td>\n",
              "      <td>-7.276500</td>\n",
              "      <td>0.048900</td>\n",
              "      <td>0.448000</td>\n",
              "    </tr>\n",
              "    <tr>\n",
              "      <th>75%</th>\n",
              "      <td>56.000000</td>\n",
              "      <td>0.552000</td>\n",
              "      <td>0.687000</td>\n",
              "      <td>2.686122e+05</td>\n",
              "      <td>0.815000</td>\n",
              "      <td>0.155000</td>\n",
              "      <td>0.244000</td>\n",
              "      <td>-5.173000</td>\n",
              "      <td>0.098525</td>\n",
              "      <td>0.648000</td>\n",
              "    </tr>\n",
              "    <tr>\n",
              "      <th>max</th>\n",
              "      <td>99.000000</td>\n",
              "      <td>0.996000</td>\n",
              "      <td>0.986000</td>\n",
              "      <td>4.830606e+06</td>\n",
              "      <td>0.999000</td>\n",
              "      <td>0.996000</td>\n",
              "      <td>1.000000</td>\n",
              "      <td>3.744000</td>\n",
              "      <td>0.942000</td>\n",
              "      <td>0.992000</td>\n",
              "    </tr>\n",
              "  </tbody>\n",
              "</table>\n",
              "</div>"
            ],
            "text/plain": [
              "         popularity  acousticness  danceability   duration_ms        energy  \\\n",
              "count  50000.000000  50000.000000  50000.000000  5.000000e+04  50000.000000   \n",
              "mean      44.220420      0.306383      0.558241  2.212526e+05      0.599755   \n",
              "std       15.542008      0.341340      0.178632  1.286720e+05      0.264559   \n",
              "min        0.000000      0.000000      0.059600 -1.000000e+00      0.000792   \n",
              "25%       34.000000      0.020000      0.442000  1.748000e+05      0.433000   \n",
              "50%       45.000000      0.144000      0.568000  2.192810e+05      0.643000   \n",
              "75%       56.000000      0.552000      0.687000  2.686122e+05      0.815000   \n",
              "max       99.000000      0.996000      0.986000  4.830606e+06      0.999000   \n",
              "\n",
              "       instrumentalness      liveness      loudness   speechiness  \\\n",
              "count      50000.000000  50000.000000  50000.000000  50000.000000   \n",
              "mean           0.181601      0.193896     -9.133761      0.093586   \n",
              "std            0.325409      0.161637      6.162990      0.101373   \n",
              "min            0.000000      0.009670    -47.046000      0.022300   \n",
              "25%            0.000000      0.096900    -10.860000      0.036100   \n",
              "50%            0.000158      0.126000     -7.276500      0.048900   \n",
              "75%            0.155000      0.244000     -5.173000      0.098525   \n",
              "max            0.996000      1.000000      3.744000      0.942000   \n",
              "\n",
              "            valence  \n",
              "count  50000.000000  \n",
              "mean       0.456264  \n",
              "std        0.247119  \n",
              "min        0.000000  \n",
              "25%        0.257000  \n",
              "50%        0.448000  \n",
              "75%        0.648000  \n",
              "max        0.992000  "
            ]
          },
          "execution_count": 369,
          "metadata": {},
          "output_type": "execute_result"
        }
      ],
      "source": [
        "# Summary of the dataset\n",
        "\n",
        "df.describe()"
      ]
    },
    {
      "cell_type": "code",
      "execution_count": null,
      "id": "d54a7072-19a6-4a9c-beed-471a3c02822c",
      "metadata": {
        "id": "d54a7072-19a6-4a9c-beed-471a3c02822c"
      },
      "outputs": [],
      "source": [
        "target = \"music_genre\"\n",
        "num_classes = df[target].nunique()"
      ]
    },
    {
      "cell_type": "markdown",
      "id": "143a5ec7-6e2b-497c-9709-1b37ab8ea737",
      "metadata": {
        "id": "143a5ec7-6e2b-497c-9709-1b37ab8ea737"
      },
      "source": [
        "# Preprocessing"
      ]
    },
    {
      "cell_type": "code",
      "execution_count": null,
      "id": "f81b45d9-56b3-42ea-a313-359b3290d57c",
      "metadata": {
        "id": "f81b45d9-56b3-42ea-a313-359b3290d57c"
      },
      "outputs": [],
      "source": [
        "# Coverting the attribute with incorrect datatype ( \"tempo\" )\n",
        "\n",
        "df[\"tempo\"] = df[\"tempo\"].apply(lambda arg : np.NaN if arg == \"?\" else arg).astype(np.float64)"
      ]
    },
    {
      "cell_type": "code",
      "execution_count": null,
      "id": "ec26400d-95ca-482f-af81-30e2caa794d0",
      "metadata": {
        "id": "ec26400d-95ca-482f-af81-30e2caa794d0",
        "outputId": "49b6374d-e33a-4e86-93be-1006ee02c7c5"
      },
      "outputs": [
        {
          "data": {
            "text/plain": [
              "popularity             5\n",
              "acousticness           5\n",
              "danceability           5\n",
              "duration_ms            5\n",
              "energy                 5\n",
              "instrumentalness       5\n",
              "liveness               5\n",
              "loudness               5\n",
              "mode                   5\n",
              "speechiness            5\n",
              "tempo               4985\n",
              "valence                5\n",
              "music_genre            5\n",
              "dtype: int64"
            ]
          },
          "execution_count": 372,
          "metadata": {},
          "output_type": "execute_result"
        }
      ],
      "source": [
        "# Checking for null values in each column\n",
        "\n",
        "df.isna().sum()"
      ]
    },
    {
      "cell_type": "code",
      "execution_count": null,
      "id": "91af564a-8999-4402-a868-b54d61a66714",
      "metadata": {
        "id": "91af564a-8999-4402-a868-b54d61a66714",
        "outputId": "a6ee45fc-85b5-4fe9-8588-d2f267731d63"
      },
      "outputs": [
        {
          "name": "stdout",
          "output_type": "stream",
          "text": [
            "Missing data is handled ! Key 'nan' not found !\n"
          ]
        }
      ],
      "source": [
        "# Handling null data\n",
        "\n",
        "## Filling the missing data with median of the attribute for the respective class ( \"tempo\" )\n",
        "\n",
        "tempo_by_class = df.groupby(target)[\"tempo\"].median()\n",
        "\n",
        "for class_ in df[target].unique():\n",
        "    try:\n",
        "        df[\"tempo\"].fillna(tempo_by_class[class_], inplace = True)\n",
        "    except:\n",
        "        print(f\"Missing data is handled ! Key '{class_}' not found !\")\n",
        "\n",
        "## Dropping the null values in the attributes ( others )\n",
        "\n",
        "df.dropna(inplace = True)"
      ]
    },
    {
      "cell_type": "code",
      "execution_count": null,
      "id": "2f748f47-179f-40e5-93b7-17b7f808275b",
      "metadata": {
        "id": "2f748f47-179f-40e5-93b7-17b7f808275b",
        "outputId": "7058b930-39fe-4e37-81a2-6d178ac7fe61"
      },
      "outputs": [
        {
          "data": {
            "text/plain": [
              "popularity          0\n",
              "acousticness        0\n",
              "danceability        0\n",
              "duration_ms         0\n",
              "energy              0\n",
              "instrumentalness    0\n",
              "liveness            0\n",
              "loudness            0\n",
              "mode                0\n",
              "speechiness         0\n",
              "tempo               0\n",
              "valence             0\n",
              "music_genre         0\n",
              "dtype: int64"
            ]
          },
          "execution_count": 374,
          "metadata": {},
          "output_type": "execute_result"
        }
      ],
      "source": [
        "# Checking for null values in each column after handling them\n",
        "\n",
        "df.isna().sum()"
      ]
    },
    {
      "cell_type": "code",
      "execution_count": null,
      "id": "66ac2b5e-2b9b-41f4-8bad-f9c985eb005f",
      "metadata": {
        "id": "66ac2b5e-2b9b-41f4-8bad-f9c985eb005f",
        "outputId": "d68f6d2a-89a2-43ee-8530-e91fd45e59b0"
      },
      "outputs": [
        {
          "name": "stdout",
          "output_type": "stream",
          "text": [
            "1\n"
          ]
        }
      ],
      "source": [
        "# Checking for duplicated data\n",
        "\n",
        "print(df.duplicated().sum())"
      ]
    },
    {
      "cell_type": "code",
      "execution_count": null,
      "id": "85fd3f6b-9d4a-45cf-a830-34f1d84413d6",
      "metadata": {
        "id": "85fd3f6b-9d4a-45cf-a830-34f1d84413d6"
      },
      "outputs": [],
      "source": [
        "# Handling duplicated data ( dropping duplicate rows )\n",
        "\n",
        "df.drop_duplicates(inplace = True)"
      ]
    },
    {
      "cell_type": "code",
      "execution_count": null,
      "id": "3037174e-dfea-40a3-8d8f-17aba8971dc0",
      "metadata": {
        "id": "3037174e-dfea-40a3-8d8f-17aba8971dc0",
        "outputId": "1e49d94a-5ce8-49e6-ad4c-a13f5c8b0f11"
      },
      "outputs": [
        {
          "name": "stdout",
          "output_type": "stream",
          "text": [
            "0\n"
          ]
        }
      ],
      "source": [
        "# Checking for duplicated data after dropping\n",
        "\n",
        "print(df.duplicated().sum())"
      ]
    },
    {
      "cell_type": "code",
      "execution_count": null,
      "id": "954676d3-ecf8-411d-89d6-aa60baf0bc1c",
      "metadata": {
        "id": "954676d3-ecf8-411d-89d6-aa60baf0bc1c",
        "outputId": "76d68c25-eacc-4c9a-967d-08d3b43b2102"
      },
      "outputs": [
        {
          "name": "stdout",
          "output_type": "stream",
          "text": [
            "Numerical Attributes: ['popularity' 'acousticness' 'danceability' 'duration_ms' 'energy'\n",
            " 'instrumentalness' 'liveness' 'loudness' 'speechiness' 'tempo' 'valence']\n",
            "Categorical Attributes: ['mode' 'music_genre']\n"
          ]
        }
      ],
      "source": [
        "# Separating numerical and categorical columns\n",
        "\n",
        "numerical_cols = df.select_dtypes([int, float]).columns.values\n",
        "categorical_cols = df.select_dtypes(object).columns.values\n",
        "\n",
        "print(f\"Numerical Attributes: {numerical_cols}\")\n",
        "print(f\"Categorical Attributes: {categorical_cols}\")"
      ]
    },
    {
      "cell_type": "code",
      "execution_count": null,
      "id": "eb0a725d-c181-44b7-9b8f-1adbf1865018",
      "metadata": {
        "id": "eb0a725d-c181-44b7-9b8f-1adbf1865018",
        "outputId": "ce3ed6ea-74ba-4d6b-d7b9-e4e960296911"
      },
      "outputs": [
        {
          "name": "stdout",
          "output_type": "stream",
          "text": [
            "mode\n",
            "Major    32098\n",
            "Minor    17901\n",
            "Name: count, dtype: int64 \n",
            "\n",
            "\n"
          ]
        },
        {
          "data": {
            "image/png": "[encoded data removed]",
            "text/plain": [
              "<Figure size 640x480 with 1 Axes>"
            ]
          },
          "metadata": {},
          "output_type": "display_data"
        },
        {
          "name": "stdout",
          "output_type": "stream",
          "text": [
            "music_genre\n",
            "Anime          5000\n",
            "Jazz           5000\n",
            "Alternative    5000\n",
            "Country        5000\n",
            "Rap            5000\n",
            "Blues          5000\n",
            "Rock           5000\n",
            "Classical      5000\n",
            "Hip-Hop        5000\n",
            "Electronic     4999\n",
            "Name: count, dtype: int64 \n",
            "\n",
            "\n"
          ]
        },
        {
          "data": {
            "image/png": "[encoded data removed]",
            "text/plain": [
              "<Figure size 640x480 with 1 Axes>"
            ]
          },
          "metadata": {},
          "output_type": "display_data"
        }
      ],
      "source": [
        "# Count of each unique category in categorical attributes\n",
        "\n",
        "for col in categorical_cols:\n",
        "    val_counts = df[col].value_counts()\n",
        "    print(val_counts, \"\\n\\n\")\n",
        "    if (len(val_counts.index) > 10):\n",
        "        continue\n",
        "    plt.pie(val_counts, autopct = \"%.2f%%\", labels = val_counts.index)\n",
        "    plt.show()"
      ]
    },
    {
      "cell_type": "code",
      "execution_count": null,
      "id": "9d303ec7-ece1-4a6c-8c69-acb6d46d2139",
      "metadata": {
        "id": "9d303ec7-ece1-4a6c-8c69-acb6d46d2139",
        "outputId": "98258ffb-4243-4955-df82-3092a4778d75"
      },
      "outputs": [
        {
          "data": {
            "text/html": [
              "<div>\n",
              "<style scoped>\n",
              "    .dataframe tbody tr th:only-of-type {\n",
              "        vertical-align: middle;\n",
              "    }\n",
              "\n",
              "    .dataframe tbody tr th {\n",
              "        vertical-align: top;\n",
              "    }\n",
              "\n",
              "    .dataframe thead th {\n",
              "        text-align: right;\n",
              "    }\n",
              "</style>\n",
              "<table border=\"1\" class=\"dataframe\">\n",
              "  <thead>\n",
              "    <tr style=\"text-align: right;\">\n",
              "      <th></th>\n",
              "      <th>mode</th>\n",
              "      <th>music_genre</th>\n",
              "    </tr>\n",
              "  </thead>\n",
              "  <tbody>\n",
              "    <tr>\n",
              "      <th>0</th>\n",
              "      <td>1</td>\n",
              "      <td>5</td>\n",
              "    </tr>\n",
              "    <tr>\n",
              "      <th>1</th>\n",
              "      <td>1</td>\n",
              "      <td>5</td>\n",
              "    </tr>\n",
              "    <tr>\n",
              "      <th>2</th>\n",
              "      <td>0</td>\n",
              "      <td>5</td>\n",
              "    </tr>\n",
              "    <tr>\n",
              "      <th>3</th>\n",
              "      <td>0</td>\n",
              "      <td>5</td>\n",
              "    </tr>\n",
              "    <tr>\n",
              "      <th>4</th>\n",
              "      <td>0</td>\n",
              "      <td>5</td>\n",
              "    </tr>\n",
              "    <tr>\n",
              "      <th>...</th>\n",
              "      <td>...</td>\n",
              "      <td>...</td>\n",
              "    </tr>\n",
              "    <tr>\n",
              "      <th>50000</th>\n",
              "      <td>0</td>\n",
              "      <td>6</td>\n",
              "    </tr>\n",
              "    <tr>\n",
              "      <th>50001</th>\n",
              "      <td>0</td>\n",
              "      <td>6</td>\n",
              "    </tr>\n",
              "    <tr>\n",
              "      <th>50002</th>\n",
              "      <td>0</td>\n",
              "      <td>6</td>\n",
              "    </tr>\n",
              "    <tr>\n",
              "      <th>50003</th>\n",
              "      <td>1</td>\n",
              "      <td>6</td>\n",
              "    </tr>\n",
              "    <tr>\n",
              "      <th>50004</th>\n",
              "      <td>1</td>\n",
              "      <td>6</td>\n",
              "    </tr>\n",
              "  </tbody>\n",
              "</table>\n",
              "<p>49999 rows × 2 columns</p>\n",
              "</div>"
            ],
            "text/plain": [
              "       mode  music_genre\n",
              "0         1            5\n",
              "1         1            5\n",
              "2         0            5\n",
              "3         0            5\n",
              "4         0            5\n",
              "...     ...          ...\n",
              "50000     0            6\n",
              "50001     0            6\n",
              "50002     0            6\n",
              "50003     1            6\n",
              "50004     1            6\n",
              "\n",
              "[49999 rows x 2 columns]"
            ]
          },
          "execution_count": 380,
          "metadata": {},
          "output_type": "execute_result"
        }
      ],
      "source": [
        "# Encoding the categorical attributes ( Ordinal Encoding )\n",
        "\n",
        "encoder = preprocessing.OrdinalEncoder()\n",
        "\n",
        "encoded_arr = encoder.fit_transform(df.loc[:, [\"mode\", \"music_genre\"]]).astype(int).T\n",
        "\n",
        "for i, col in enumerate(categorical_cols):\n",
        "    df[col] = encoded_arr[i]\n",
        "\n",
        "df.loc[:, categorical_cols]"
      ]
    },
    {
      "cell_type": "code",
      "execution_count": null,
      "id": "70d69988-2e6c-4906-b8ff-c189c01d7507",
      "metadata": {
        "id": "70d69988-2e6c-4906-b8ff-c189c01d7507",
        "outputId": "b2b2ea21-52d7-4f8e-c483-1944c0d0beb2"
      },
      "outputs": [
        {
          "name": "stdout",
          "output_type": "stream",
          "text": [
            "(49999, 12) (49999,)\n"
          ]
        }
      ],
      "source": [
        "# Separating features and labels\n",
        "\n",
        "X = df.drop(target, axis = 1).values\n",
        "y = df[target].values\n",
        "\n",
        "print(X.shape, y.shape)"
      ]
    },
    {
      "cell_type": "code",
      "execution_count": null,
      "id": "ccb791ab-28af-4ec8-8a6e-23c2994a1a9a",
      "metadata": {
        "id": "ccb791ab-28af-4ec8-8a6e-23c2994a1a9a",
        "outputId": "6ea4e648-abe7-4dfe-9e79-6f740c291166"
      },
      "outputs": [
        {
          "name": "stdout",
          "output_type": "stream",
          "text": [
            "(2500, 12) (2500,)\n"
          ]
        }
      ],
      "source": [
        "# Selecting a subset from the entire dataset ( Stratified random sampling )\n",
        "\n",
        "X_, X, y_, y = model_selection.train_test_split(X, y, random_state = 36, stratify = y, test_size = 0.05)\n",
        "\n",
        "print(X.shape, y.shape)"
      ]
    },
    {
      "cell_type": "code",
      "execution_count": null,
      "id": "c65d01b6-08bc-4d77-8fba-58036920a2bd",
      "metadata": {
        "id": "c65d01b6-08bc-4d77-8fba-58036920a2bd",
        "outputId": "643f448d-94b7-4897-8583-b6be327bc1d9"
      },
      "outputs": [
        {
          "name": "stdout",
          "output_type": "stream",
          "text": [
            "(2250, 12) (250, 12)\n"
          ]
        }
      ],
      "source": [
        "# Splitting the data into training and testing data using stratified random sampling\n",
        "\n",
        "X_train, X_test, y_train, y_test = model_selection.train_test_split(X, y, random_state = 36, stratify = y, test_size = 0.1)\n",
        "\n",
        "print(X_train.shape, X_test.shape)"
      ]
    },
    {
      "cell_type": "code",
      "execution_count": null,
      "id": "2e8f6d89-3075-413d-a3bc-e22e19fb7a5b",
      "metadata": {
        "id": "2e8f6d89-3075-413d-a3bc-e22e19fb7a5b",
        "outputId": "a8a2134f-cf1b-4c84-92d3-5fff9e4e2681"
      },
      "outputs": [
        {
          "data": {
            "image/png": "[encoded data removed]",
            "text/plain": [
              "<Figure size 640x480 with 1 Axes>"
            ]
          },
          "metadata": {},
          "output_type": "display_data"
        },
        {
          "data": {
            "image/png": "[encoded data removed]",
            "text/plain": [
              "<Figure size 640x480 with 1 Axes>"
            ]
          },
          "metadata": {},
          "output_type": "display_data"
        }
      ],
      "source": [
        "plt.title(\"Training Set\")\n",
        "sns.histplot(y_train, bins = num_classes)\n",
        "plt.xticks([0, 1])\n",
        "plt.show()\n",
        "\n",
        "plt.title(\"Testing Set\")\n",
        "sns.histplot(y_test, bins = num_classes)\n",
        "plt.xticks([0, 1])\n",
        "plt.show()"
      ]
    },
    {
      "cell_type": "code",
      "execution_count": null,
      "id": "4e000c03-5508-4d1e-800a-08d1778fd1dc",
      "metadata": {
        "id": "4e000c03-5508-4d1e-800a-08d1778fd1dc"
      },
      "outputs": [],
      "source": [
        "# Scaling continuous features ( MinMax Scaling )\n",
        "\n",
        "scaler = preprocessing.MinMaxScaler()\n",
        "\n",
        "X_train_scaled = scaler.fit_transform(X_train)\n",
        "X_test_scaled = scaler.fit_transform(X_test)"
      ]
    },
    {
      "cell_type": "code",
      "execution_count": null,
      "id": "e7329952-95b1-4599-9e27-e20446a40209",
      "metadata": {
        "id": "e7329952-95b1-4599-9e27-e20446a40209",
        "outputId": "bd6f2dec-bf75-4666-f75a-a644fcbed77d"
      },
      "outputs": [
        {
          "name": "stdout",
          "output_type": "stream",
          "text": [
            "0.0 1.0\n",
            "0.0 1.0\n"
          ]
        }
      ],
      "source": [
        "X_train = X_train_scaled.copy()\n",
        "X_test = X_test_scaled.copy()\n",
        "\n",
        "print(X_train[:, 0].min(), X_train[:, 0].max())\n",
        "print(X_test[:, 0].min(), X_test[:, 0].max())"
      ]
    },
    {
      "cell_type": "markdown",
      "id": "bd8dc91b-571e-4269-9644-c4175bb14e86",
      "metadata": {
        "id": "bd8dc91b-571e-4269-9644-c4175bb14e86"
      },
      "source": [
        "## Feature Selection"
      ]
    },
    {
      "cell_type": "code",
      "execution_count": null,
      "id": "d982972c-a601-4b96-b8ad-b3aefd42c652",
      "metadata": {
        "id": "d982972c-a601-4b96-b8ad-b3aefd42c652",
        "outputId": "afdaa797-9a9f-42b9-fec6-aa57051dcb83"
      },
      "outputs": [
        {
          "data": {
            "image/png": "[encoded data removed]",
            "text/plain": [
              "<Figure size 640x480 with 1 Axes>"
            ]
          },
          "metadata": {},
          "output_type": "display_data"
        },
        {
          "data": {
            "image/png": "[encoded data removed]",
            "text/plain": [
              "<Figure size 640x480 with 1 Axes>"
            ]
          },
          "metadata": {},
          "output_type": "display_data"
        }
      ],
      "source": [
        "# PCA through scikit-learn\n",
        "\n",
        "pca = decomposition.PCA(n_components = 5)\n",
        "pca.fit(X_train)\n",
        "\n",
        "X_train_pc = pca.transform(X_train)\n",
        "\n",
        "exp_var_ratio = pca.explained_variance_ratio_\n",
        "cum_sum = np.cumsum(exp_var_ratio)\n",
        "\n",
        "plt.plot(exp_var_ratio)\n",
        "plt.show()\n",
        "\n",
        "plt.plot(np.arange(1, len(cum_sum) + 1), cum_sum, marker = \"o\")\n",
        "plt.xlabel(\"Number of PC\")\n",
        "plt.ylabel(\"Cumulative Variance Ratio\")\n",
        "plt.grid(True)\n",
        "plt.show()"
      ]
    },
    {
      "cell_type": "code",
      "execution_count": null,
      "id": "4a65496f-db0c-4674-8e35-2f7ecc83ae5b",
      "metadata": {
        "id": "4a65496f-db0c-4674-8e35-2f7ecc83ae5b",
        "outputId": "533e5f84-228a-43dc-a74f-f155991d0ebf"
      },
      "outputs": [
        {
          "data": {
            "image/png": "[encoded data removed]",
            "text/plain": [
              "<Figure size 640x480 with 1 Axes>"
            ]
          },
          "metadata": {},
          "output_type": "display_data"
        }
      ],
      "source": [
        "n_features = 5\n",
        "\n",
        "plt.bar(np.arange(n_features), exp_var_ratio, label = \"Explained Variance of PC\")\n",
        "plt.plot(exp_var_ratio, color = \"red\", marker = \"o\")\n",
        "plt.xticks(ticks = np.arange(n_features), labels = [\"pc\" + str(i) for i in np.arange(1, n_features + 1)])\n",
        "plt.legend()\n",
        "plt.show()"
      ]
    },
    {
      "cell_type": "code",
      "execution_count": null,
      "id": "70e0c632-38b0-4858-a8d7-830a2b287728",
      "metadata": {
        "id": "70e0c632-38b0-4858-a8d7-830a2b287728",
        "outputId": "bf70573c-931a-4ebd-b341-ac175220a224"
      },
      "outputs": [
        {
          "name": "stdout",
          "output_type": "stream",
          "text": [
            "(2250, 5) (250, 5)\n"
          ]
        }
      ],
      "source": [
        "X_test_pc = pca.transform(X_test)\n",
        "\n",
        "print(X_train_pc.shape, X_test_pc.shape)"
      ]
    },
    {
      "cell_type": "code",
      "execution_count": null,
      "id": "fab39a03-15e7-499e-863c-a9bcbc3541a7",
      "metadata": {
        "id": "fab39a03-15e7-499e-863c-a9bcbc3541a7"
      },
      "outputs": [],
      "source": [
        "X_train = X_train_pc.copy()\n",
        "X_test = X_test_pc.copy()"
      ]
    },
    {
      "cell_type": "markdown",
      "id": "ba23abf7-6cf8-4942-9b42-b15bfe48185a",
      "metadata": {
        "id": "ba23abf7-6cf8-4942-9b42-b15bfe48185a"
      },
      "source": [
        "# Model Building and Training"
      ]
    },
    {
      "cell_type": "markdown",
      "id": "ad3e3ecf-5f5c-4f27-8df5-b4dd86b6bdd6",
      "metadata": {
        "id": "ad3e3ecf-5f5c-4f27-8df5-b4dd86b6bdd6"
      },
      "source": [
        "## Support Vector Machine"
      ]
    },
    {
      "cell_type": "markdown",
      "id": "ac4464eb-eaf5-4d63-b7b2-037e75151288",
      "metadata": {
        "id": "ac4464eb-eaf5-4d63-b7b2-037e75151288"
      },
      "source": [
        "#### Model Training"
      ]
    },
    {
      "cell_type": "code",
      "execution_count": null,
      "id": "741bc025-3f99-40bb-8d42-3fac5a3c6320",
      "metadata": {
        "id": "741bc025-3f99-40bb-8d42-3fac5a3c6320",
        "outputId": "cdc7a474-233f-496e-ce34-6bf2f0934118"
      },
      "outputs": [
        {
          "data": {
            "text/html": [
              "<style>#sk-container-id-20 {color: black;}#sk-container-id-20 pre{padding: 0;}#sk-container-id-20 div.sk-toggleable {background-color: white;}#sk-container-id-20 label.sk-toggleable__label {cursor: pointer;display: block;width: 100%;margin-bottom: 0;padding: 0.3em;box-sizing: border-box;text-align: center;}#sk-container-id-20 label.sk-toggleable__label-arrow:before {content: \"▸\";float: left;margin-right: 0.25em;color: #696969;}#sk-container-id-20 label.sk-toggleable__label-arrow:hover:before {color: black;}#sk-container-id-20 div.sk-estimator:hover label.sk-toggleable__label-arrow:before {color: black;}#sk-container-id-20 div.sk-toggleable__content {max-height: 0;max-width: 0;overflow: hidden;text-align: left;background-color: #f0f8ff;}#sk-container-id-20 div.sk-toggleable__content pre {margin: 0.2em;color: black;border-radius: 0.25em;background-color: #f0f8ff;}#sk-container-id-20 input.sk-toggleable__control:checked~div.sk-toggleable__content {max-height: 200px;max-width: 100%;overflow: auto;}#sk-container-id-20 input.sk-toggleable__control:checked~label.sk-toggleable__label-arrow:before {content: \"▾\";}#sk-container-id-20 div.sk-estimator input.sk-toggleable__control:checked~label.sk-toggleable__label {background-color: #d4ebff;}#sk-container-id-20 div.sk-label input.sk-toggleable__control:checked~label.sk-toggleable__label {background-color: #d4ebff;}#sk-container-id-20 input.sk-hidden--visually {border: 0;clip: rect(1px 1px 1px 1px);clip: rect(1px, 1px, 1px, 1px);height: 1px;margin: -1px;overflow: hidden;padding: 0;position: absolute;width: 1px;}#sk-container-id-20 div.sk-estimator {font-family: monospace;background-color: #f0f8ff;border: 1px dotted black;border-radius: 0.25em;box-sizing: border-box;margin-bottom: 0.5em;}#sk-container-id-20 div.sk-estimator:hover {background-color: #d4ebff;}#sk-container-id-20 div.sk-parallel-item::after {content: \"\";width: 100%;border-bottom: 1px solid gray;flex-grow: 1;}#sk-container-id-20 div.sk-label:hover label.sk-toggleable__label {background-color: #d4ebff;}#sk-container-id-20 div.sk-serial::before {content: \"\";position: absolute;border-left: 1px solid gray;box-sizing: border-box;top: 0;bottom: 0;left: 50%;z-index: 0;}#sk-container-id-20 div.sk-serial {display: flex;flex-direction: column;align-items: center;background-color: white;padding-right: 0.2em;padding-left: 0.2em;position: relative;}#sk-container-id-20 div.sk-item {position: relative;z-index: 1;}#sk-container-id-20 div.sk-parallel {display: flex;align-items: stretch;justify-content: center;background-color: white;position: relative;}#sk-container-id-20 div.sk-item::before, #sk-container-id-20 div.sk-parallel-item::before {content: \"\";position: absolute;border-left: 1px solid gray;box-sizing: border-box;top: 0;bottom: 0;left: 50%;z-index: -1;}#sk-container-id-20 div.sk-parallel-item {display: flex;flex-direction: column;z-index: 1;position: relative;background-color: white;}#sk-container-id-20 div.sk-parallel-item:first-child::after {align-self: flex-end;width: 50%;}#sk-container-id-20 div.sk-parallel-item:last-child::after {align-self: flex-start;width: 50%;}#sk-container-id-20 div.sk-parallel-item:only-child::after {width: 0;}#sk-container-id-20 div.sk-dashed-wrapped {border: 1px dashed gray;margin: 0 0.4em 0.5em 0.4em;box-sizing: border-box;padding-bottom: 0.4em;background-color: white;}#sk-container-id-20 div.sk-label label {font-family: monospace;font-weight: bold;display: inline-block;line-height: 1.2em;}#sk-container-id-20 div.sk-label-container {text-align: center;}#sk-container-id-20 div.sk-container {/* jupyter's `normalize.less` sets `[hidden] { display: none; }` but bootstrap.min.css set `[hidden] { display: none !important; }` so we also need the `!important` here to be able to override the default hidden behavior on the sphinx rendered scikit-learn.org. See: https://github.com/scikit-learn/scikit-learn/issues/21755 */display: inline-block !important;position: relative;}#sk-container-id-20 div.sk-text-repr-fallback {display: none;}</style><div id=\"sk-container-id-20\" class=\"sk-top-container\"><div class=\"sk-text-repr-fallback\"><pre>SVC()</pre><b>In a Jupyter environment, please rerun this cell to show the HTML representation or trust the notebook. <br />On GitHub, the HTML representation is unable to render, please try loading this page with nbviewer.org.</b></div><div class=\"sk-container\" hidden><div class=\"sk-item\"><div class=\"sk-estimator sk-toggleable\"><input class=\"sk-toggleable__control sk-hidden--visually\" id=\"sk-estimator-id-28\" type=\"checkbox\" checked><label for=\"sk-estimator-id-28\" class=\"sk-toggleable__label sk-toggleable__label-arrow\">SVC</label><div class=\"sk-toggleable__content\"><pre>SVC()</pre></div></div></div></div></div>"
            ],
            "text/plain": [
              "SVC()"
            ]
          },
          "execution_count": 391,
          "metadata": {},
          "output_type": "execute_result"
        }
      ],
      "source": [
        "# Training SVM Classifier\n",
        "\n",
        "model = svm.SVC()\n",
        "\n",
        "model.fit(X_train, y_train)"
      ]
    },
    {
      "cell_type": "code",
      "execution_count": null,
      "id": "c9b2d51f-685c-4e93-9ea7-03fe08aff9a7",
      "metadata": {
        "id": "c9b2d51f-685c-4e93-9ea7-03fe08aff9a7",
        "outputId": "60fb5211-ddb8-4595-aec5-7a2fb286a08d"
      },
      "outputs": [
        {
          "name": "stdout",
          "output_type": "stream",
          "text": [
            "Train Accuracy: 0.4533333333333333\n"
          ]
        }
      ],
      "source": [
        "# Making predictions on train set\n",
        "\n",
        "y_train_pred = model.predict(X_train)\n",
        "print(\"Train Accuracy:\", metrics.accuracy_score(y_train, y_train_pred))"
      ]
    },
    {
      "cell_type": "markdown",
      "id": "72ef81bc-606d-4087-ae1d-3bd5e8a7ccb0",
      "metadata": {
        "id": "72ef81bc-606d-4087-ae1d-3bd5e8a7ccb0"
      },
      "source": [
        "#### Model Evaluation"
      ]
    },
    {
      "cell_type": "code",
      "execution_count": null,
      "id": "74f09308-ef12-465c-bcf4-9025ddb00345",
      "metadata": {
        "id": "74f09308-ef12-465c-bcf4-9025ddb00345",
        "outputId": "a6f0f174-c8ad-4a16-fa40-447369676013"
      },
      "outputs": [
        {
          "name": "stdout",
          "output_type": "stream",
          "text": [
            "Test Accuracy: 0.456\n"
          ]
        }
      ],
      "source": [
        "# Evaluating the model on test set\n",
        "\n",
        "y_test_pred = model.predict(X_test)\n",
        "print(\"Test Accuracy:\", metrics.accuracy_score(y_test, y_test_pred))"
      ]
    },
    {
      "cell_type": "markdown",
      "id": "19668e49-2bde-4eee-85af-466bb690c58e",
      "metadata": {
        "id": "19668e49-2bde-4eee-85af-466bb690c58e"
      },
      "source": [
        "#### Cross Validation"
      ]
    },
    {
      "cell_type": "code",
      "execution_count": null,
      "id": "b46c725c-8917-4ab0-928c-1aef1480ec43",
      "metadata": {
        "id": "b46c725c-8917-4ab0-928c-1aef1480ec43",
        "outputId": "0f62c0a8-f458-4c72-c63e-9bfeef018282"
      },
      "outputs": [
        {
          "name": "stdout",
          "output_type": "stream",
          "text": [
            "Cross validation accuracy (avg): 0.4173333333333333\n"
          ]
        }
      ],
      "source": [
        "# Performing K-Fold cross validation\n",
        "\n",
        "cross_val_scores = model_selection.cross_val_score(base.clone(model), X_train, y_train, cv = 5)\n",
        "print(\"Cross validation accuracy (avg):\", cross_val_scores.sum() / len(cross_val_scores))"
      ]
    },
    {
      "cell_type": "markdown",
      "id": "36457286-dbfa-4d9a-ade7-3b8d22226e61",
      "metadata": {
        "id": "36457286-dbfa-4d9a-ade7-3b8d22226e61"
      },
      "source": [
        "#### Hyperparameter Tuning"
      ]
    },
    {
      "cell_type": "code",
      "execution_count": null,
      "id": "af2bde7c-ddfb-474c-b3bd-aa8b83ad468f",
      "metadata": {
        "id": "af2bde7c-ddfb-474c-b3bd-aa8b83ad468f",
        "outputId": "9dacde2d-6246-442a-f4c0-e1b799b9b417"
      },
      "outputs": [
        {
          "data": {
            "text/html": [
              "<style>#sk-container-id-21 {color: black;}#sk-container-id-21 pre{padding: 0;}#sk-container-id-21 div.sk-toggleable {background-color: white;}#sk-container-id-21 label.sk-toggleable__label {cursor: pointer;display: block;width: 100%;margin-bottom: 0;padding: 0.3em;box-sizing: border-box;text-align: center;}#sk-container-id-21 label.sk-toggleable__label-arrow:before {content: \"▸\";float: left;margin-right: 0.25em;color: #696969;}#sk-container-id-21 label.sk-toggleable__label-arrow:hover:before {color: black;}#sk-container-id-21 div.sk-estimator:hover label.sk-toggleable__label-arrow:before {color: black;}#sk-container-id-21 div.sk-toggleable__content {max-height: 0;max-width: 0;overflow: hidden;text-align: left;background-color: #f0f8ff;}#sk-container-id-21 div.sk-toggleable__content pre {margin: 0.2em;color: black;border-radius: 0.25em;background-color: #f0f8ff;}#sk-container-id-21 input.sk-toggleable__control:checked~div.sk-toggleable__content {max-height: 200px;max-width: 100%;overflow: auto;}#sk-container-id-21 input.sk-toggleable__control:checked~label.sk-toggleable__label-arrow:before {content: \"▾\";}#sk-container-id-21 div.sk-estimator input.sk-toggleable__control:checked~label.sk-toggleable__label {background-color: #d4ebff;}#sk-container-id-21 div.sk-label input.sk-toggleable__control:checked~label.sk-toggleable__label {background-color: #d4ebff;}#sk-container-id-21 input.sk-hidden--visually {border: 0;clip: rect(1px 1px 1px 1px);clip: rect(1px, 1px, 1px, 1px);height: 1px;margin: -1px;overflow: hidden;padding: 0;position: absolute;width: 1px;}#sk-container-id-21 div.sk-estimator {font-family: monospace;background-color: #f0f8ff;border: 1px dotted black;border-radius: 0.25em;box-sizing: border-box;margin-bottom: 0.5em;}#sk-container-id-21 div.sk-estimator:hover {background-color: #d4ebff;}#sk-container-id-21 div.sk-parallel-item::after {content: \"\";width: 100%;border-bottom: 1px solid gray;flex-grow: 1;}#sk-container-id-21 div.sk-label:hover label.sk-toggleable__label {background-color: #d4ebff;}#sk-container-id-21 div.sk-serial::before {content: \"\";position: absolute;border-left: 1px solid gray;box-sizing: border-box;top: 0;bottom: 0;left: 50%;z-index: 0;}#sk-container-id-21 div.sk-serial {display: flex;flex-direction: column;align-items: center;background-color: white;padding-right: 0.2em;padding-left: 0.2em;position: relative;}#sk-container-id-21 div.sk-item {position: relative;z-index: 1;}#sk-container-id-21 div.sk-parallel {display: flex;align-items: stretch;justify-content: center;background-color: white;position: relative;}#sk-container-id-21 div.sk-item::before, #sk-container-id-21 div.sk-parallel-item::before {content: \"\";position: absolute;border-left: 1px solid gray;box-sizing: border-box;top: 0;bottom: 0;left: 50%;z-index: -1;}#sk-container-id-21 div.sk-parallel-item {display: flex;flex-direction: column;z-index: 1;position: relative;background-color: white;}#sk-container-id-21 div.sk-parallel-item:first-child::after {align-self: flex-end;width: 50%;}#sk-container-id-21 div.sk-parallel-item:last-child::after {align-self: flex-start;width: 50%;}#sk-container-id-21 div.sk-parallel-item:only-child::after {width: 0;}#sk-container-id-21 div.sk-dashed-wrapped {border: 1px dashed gray;margin: 0 0.4em 0.5em 0.4em;box-sizing: border-box;padding-bottom: 0.4em;background-color: white;}#sk-container-id-21 div.sk-label label {font-family: monospace;font-weight: bold;display: inline-block;line-height: 1.2em;}#sk-container-id-21 div.sk-label-container {text-align: center;}#sk-container-id-21 div.sk-container {/* jupyter's `normalize.less` sets `[hidden] { display: none; }` but bootstrap.min.css set `[hidden] { display: none !important; }` so we also need the `!important` here to be able to override the default hidden behavior on the sphinx rendered scikit-learn.org. See: https://github.com/scikit-learn/scikit-learn/issues/21755 */display: inline-block !important;position: relative;}#sk-container-id-21 div.sk-text-repr-fallback {display: none;}</style><div id=\"sk-container-id-21\" class=\"sk-top-container\"><div class=\"sk-text-repr-fallback\"><pre>GridSearchCV(cv=5, estimator=SVC(),\n",
              "             param_grid={&#x27;C&#x27;: array([1, 2, 3, 4]),\n",
              "                         &#x27;degree&#x27;: array([1, 2, 3, 4]),\n",
              "                         &#x27;gamma&#x27;: [&#x27;auto&#x27;, &#x27;scale&#x27;],\n",
              "                         &#x27;kernel&#x27;: [&#x27;linear&#x27;, &#x27;rbf&#x27;, &#x27;poly&#x27;]})</pre><b>In a Jupyter environment, please rerun this cell to show the HTML representation or trust the notebook. <br />On GitHub, the HTML representation is unable to render, please try loading this page with nbviewer.org.</b></div><div class=\"sk-container\" hidden><div class=\"sk-item sk-dashed-wrapped\"><div class=\"sk-label-container\"><div class=\"sk-label sk-toggleable\"><input class=\"sk-toggleable__control sk-hidden--visually\" id=\"sk-estimator-id-29\" type=\"checkbox\" ><label for=\"sk-estimator-id-29\" class=\"sk-toggleable__label sk-toggleable__label-arrow\">GridSearchCV</label><div class=\"sk-toggleable__content\"><pre>GridSearchCV(cv=5, estimator=SVC(),\n",
              "             param_grid={&#x27;C&#x27;: array([1, 2, 3, 4]),\n",
              "                         &#x27;degree&#x27;: array([1, 2, 3, 4]),\n",
              "                         &#x27;gamma&#x27;: [&#x27;auto&#x27;, &#x27;scale&#x27;],\n",
              "                         &#x27;kernel&#x27;: [&#x27;linear&#x27;, &#x27;rbf&#x27;, &#x27;poly&#x27;]})</pre></div></div></div><div class=\"sk-parallel\"><div class=\"sk-parallel-item\"><div class=\"sk-item\"><div class=\"sk-label-container\"><div class=\"sk-label sk-toggleable\"><input class=\"sk-toggleable__control sk-hidden--visually\" id=\"sk-estimator-id-30\" type=\"checkbox\" ><label for=\"sk-estimator-id-30\" class=\"sk-toggleable__label sk-toggleable__label-arrow\">estimator: SVC</label><div class=\"sk-toggleable__content\"><pre>SVC()</pre></div></div></div><div class=\"sk-serial\"><div class=\"sk-item\"><div class=\"sk-estimator sk-toggleable\"><input class=\"sk-toggleable__control sk-hidden--visually\" id=\"sk-estimator-id-31\" type=\"checkbox\" ><label for=\"sk-estimator-id-31\" class=\"sk-toggleable__label sk-toggleable__label-arrow\">SVC</label><div class=\"sk-toggleable__content\"><pre>SVC()</pre></div></div></div></div></div></div></div></div></div></div>"
            ],
            "text/plain": [
              "GridSearchCV(cv=5, estimator=SVC(),\n",
              "             param_grid={'C': array([1, 2, 3, 4]),\n",
              "                         'degree': array([1, 2, 3, 4]),\n",
              "                         'gamma': ['auto', 'scale'],\n",
              "                         'kernel': ['linear', 'rbf', 'poly']})"
            ]
          },
          "execution_count": 395,
          "metadata": {},
          "output_type": "execute_result"
        }
      ],
      "source": [
        "# Tuning hyperparameters using GridSearch\n",
        "\n",
        "grid = model_selection.GridSearchCV(estimator = base.clone(model), param_grid = { \"kernel\" : [\"linear\", \"rbf\", \"poly\"], \"C\" : np.arange(1, 5), \"gamma\" : [\"auto\", \"scale\"], \"degree\" : np.arange(1, 5) }, cv = 5)\n",
        "grid"
      ]
    },
    {
      "cell_type": "code",
      "execution_count": null,
      "id": "76d07bd0-0576-4c66-8118-2c4d52446feb",
      "metadata": {
        "id": "76d07bd0-0576-4c66-8118-2c4d52446feb",
        "outputId": "7096ab21-069a-4b77-ff69-5f294a722917"
      },
      "outputs": [
        {
          "data": {
            "text/html": [
              "<style>#sk-container-id-22 {color: black;}#sk-container-id-22 pre{padding: 0;}#sk-container-id-22 div.sk-toggleable {background-color: white;}#sk-container-id-22 label.sk-toggleable__label {cursor: pointer;display: block;width: 100%;margin-bottom: 0;padding: 0.3em;box-sizing: border-box;text-align: center;}#sk-container-id-22 label.sk-toggleable__label-arrow:before {content: \"▸\";float: left;margin-right: 0.25em;color: #696969;}#sk-container-id-22 label.sk-toggleable__label-arrow:hover:before {color: black;}#sk-container-id-22 div.sk-estimator:hover label.sk-toggleable__label-arrow:before {color: black;}#sk-container-id-22 div.sk-toggleable__content {max-height: 0;max-width: 0;overflow: hidden;text-align: left;background-color: #f0f8ff;}#sk-container-id-22 div.sk-toggleable__content pre {margin: 0.2em;color: black;border-radius: 0.25em;background-color: #f0f8ff;}#sk-container-id-22 input.sk-toggleable__control:checked~div.sk-toggleable__content {max-height: 200px;max-width: 100%;overflow: auto;}#sk-container-id-22 input.sk-toggleable__control:checked~label.sk-toggleable__label-arrow:before {content: \"▾\";}#sk-container-id-22 div.sk-estimator input.sk-toggleable__control:checked~label.sk-toggleable__label {background-color: #d4ebff;}#sk-container-id-22 div.sk-label input.sk-toggleable__control:checked~label.sk-toggleable__label {background-color: #d4ebff;}#sk-container-id-22 input.sk-hidden--visually {border: 0;clip: rect(1px 1px 1px 1px);clip: rect(1px, 1px, 1px, 1px);height: 1px;margin: -1px;overflow: hidden;padding: 0;position: absolute;width: 1px;}#sk-container-id-22 div.sk-estimator {font-family: monospace;background-color: #f0f8ff;border: 1px dotted black;border-radius: 0.25em;box-sizing: border-box;margin-bottom: 0.5em;}#sk-container-id-22 div.sk-estimator:hover {background-color: #d4ebff;}#sk-container-id-22 div.sk-parallel-item::after {content: \"\";width: 100%;border-bottom: 1px solid gray;flex-grow: 1;}#sk-container-id-22 div.sk-label:hover label.sk-toggleable__label {background-color: #d4ebff;}#sk-container-id-22 div.sk-serial::before {content: \"\";position: absolute;border-left: 1px solid gray;box-sizing: border-box;top: 0;bottom: 0;left: 50%;z-index: 0;}#sk-container-id-22 div.sk-serial {display: flex;flex-direction: column;align-items: center;background-color: white;padding-right: 0.2em;padding-left: 0.2em;position: relative;}#sk-container-id-22 div.sk-item {position: relative;z-index: 1;}#sk-container-id-22 div.sk-parallel {display: flex;align-items: stretch;justify-content: center;background-color: white;position: relative;}#sk-container-id-22 div.sk-item::before, #sk-container-id-22 div.sk-parallel-item::before {content: \"\";position: absolute;border-left: 1px solid gray;box-sizing: border-box;top: 0;bottom: 0;left: 50%;z-index: -1;}#sk-container-id-22 div.sk-parallel-item {display: flex;flex-direction: column;z-index: 1;position: relative;background-color: white;}#sk-container-id-22 div.sk-parallel-item:first-child::after {align-self: flex-end;width: 50%;}#sk-container-id-22 div.sk-parallel-item:last-child::after {align-self: flex-start;width: 50%;}#sk-container-id-22 div.sk-parallel-item:only-child::after {width: 0;}#sk-container-id-22 div.sk-dashed-wrapped {border: 1px dashed gray;margin: 0 0.4em 0.5em 0.4em;box-sizing: border-box;padding-bottom: 0.4em;background-color: white;}#sk-container-id-22 div.sk-label label {font-family: monospace;font-weight: bold;display: inline-block;line-height: 1.2em;}#sk-container-id-22 div.sk-label-container {text-align: center;}#sk-container-id-22 div.sk-container {/* jupyter's `normalize.less` sets `[hidden] { display: none; }` but bootstrap.min.css set `[hidden] { display: none !important; }` so we also need the `!important` here to be able to override the default hidden behavior on the sphinx rendered scikit-learn.org. See: https://github.com/scikit-learn/scikit-learn/issues/21755 */display: inline-block !important;position: relative;}#sk-container-id-22 div.sk-text-repr-fallback {display: none;}</style><div id=\"sk-container-id-22\" class=\"sk-top-container\"><div class=\"sk-text-repr-fallback\"><pre>GridSearchCV(cv=5, estimator=SVC(),\n",
              "             param_grid={&#x27;C&#x27;: array([1, 2, 3, 4]),\n",
              "                         &#x27;degree&#x27;: array([1, 2, 3, 4]),\n",
              "                         &#x27;gamma&#x27;: [&#x27;auto&#x27;, &#x27;scale&#x27;],\n",
              "                         &#x27;kernel&#x27;: [&#x27;linear&#x27;, &#x27;rbf&#x27;, &#x27;poly&#x27;]})</pre><b>In a Jupyter environment, please rerun this cell to show the HTML representation or trust the notebook. <br />On GitHub, the HTML representation is unable to render, please try loading this page with nbviewer.org.</b></div><div class=\"sk-container\" hidden><div class=\"sk-item sk-dashed-wrapped\"><div class=\"sk-label-container\"><div class=\"sk-label sk-toggleable\"><input class=\"sk-toggleable__control sk-hidden--visually\" id=\"sk-estimator-id-32\" type=\"checkbox\" ><label for=\"sk-estimator-id-32\" class=\"sk-toggleable__label sk-toggleable__label-arrow\">GridSearchCV</label><div class=\"sk-toggleable__content\"><pre>GridSearchCV(cv=5, estimator=SVC(),\n",
              "             param_grid={&#x27;C&#x27;: array([1, 2, 3, 4]),\n",
              "                         &#x27;degree&#x27;: array([1, 2, 3, 4]),\n",
              "                         &#x27;gamma&#x27;: [&#x27;auto&#x27;, &#x27;scale&#x27;],\n",
              "                         &#x27;kernel&#x27;: [&#x27;linear&#x27;, &#x27;rbf&#x27;, &#x27;poly&#x27;]})</pre></div></div></div><div class=\"sk-parallel\"><div class=\"sk-parallel-item\"><div class=\"sk-item\"><div class=\"sk-label-container\"><div class=\"sk-label sk-toggleable\"><input class=\"sk-toggleable__control sk-hidden--visually\" id=\"sk-estimator-id-33\" type=\"checkbox\" ><label for=\"sk-estimator-id-33\" class=\"sk-toggleable__label sk-toggleable__label-arrow\">estimator: SVC</label><div class=\"sk-toggleable__content\"><pre>SVC()</pre></div></div></div><div class=\"sk-serial\"><div class=\"sk-item\"><div class=\"sk-estimator sk-toggleable\"><input class=\"sk-toggleable__control sk-hidden--visually\" id=\"sk-estimator-id-34\" type=\"checkbox\" ><label for=\"sk-estimator-id-34\" class=\"sk-toggleable__label sk-toggleable__label-arrow\">SVC</label><div class=\"sk-toggleable__content\"><pre>SVC()</pre></div></div></div></div></div></div></div></div></div></div>"
            ],
            "text/plain": [
              "GridSearchCV(cv=5, estimator=SVC(),\n",
              "             param_grid={'C': array([1, 2, 3, 4]),\n",
              "                         'degree': array([1, 2, 3, 4]),\n",
              "                         'gamma': ['auto', 'scale'],\n",
              "                         'kernel': ['linear', 'rbf', 'poly']})"
            ]
          },
          "execution_count": 396,
          "metadata": {},
          "output_type": "execute_result"
        }
      ],
      "source": [
        "grid.fit(X_train, y_train)"
      ]
    },
    {
      "cell_type": "code",
      "execution_count": null,
      "id": "a5b1a86b-4a58-4e06-b3e4-4a0d330f02ea",
      "metadata": {
        "id": "a5b1a86b-4a58-4e06-b3e4-4a0d330f02ea",
        "outputId": "3629d857-fbc4-46d9-adac-c45a20f8c8ce"
      },
      "outputs": [
        {
          "name": "stdout",
          "output_type": "stream",
          "text": [
            "Best hyperparameters: {'C': 4, 'degree': 1, 'gamma': 'scale', 'kernel': 'rbf'}\n"
          ]
        }
      ],
      "source": [
        "print(\"Best hyperparameters:\", grid.best_params_)"
      ]
    },
    {
      "cell_type": "code",
      "execution_count": null,
      "id": "eb041668-1014-40e1-9e29-560511dea651",
      "metadata": {
        "id": "eb041668-1014-40e1-9e29-560511dea651",
        "outputId": "f3302516-9528-4e81-8de2-e91a7da9d6ba"
      },
      "outputs": [
        {
          "name": "stdout",
          "output_type": "stream",
          "text": [
            "Average cross validation accuracy: 0.43555555555555553\n"
          ]
        }
      ],
      "source": [
        "print(\"Average cross validation accuracy:\", grid.best_score_)"
      ]
    },
    {
      "cell_type": "code",
      "execution_count": null,
      "id": "3fe1ddeb-1de4-4e3a-a050-2289ff4d5652",
      "metadata": {
        "id": "3fe1ddeb-1de4-4e3a-a050-2289ff4d5652",
        "outputId": "4bad8f04-ad17-4738-9fcd-803abdfc8610"
      },
      "outputs": [
        {
          "data": {
            "text/html": [
              "<div>\n",
              "<style scoped>\n",
              "    .dataframe tbody tr th:only-of-type {\n",
              "        vertical-align: middle;\n",
              "    }\n",
              "\n",
              "    .dataframe tbody tr th {\n",
              "        vertical-align: top;\n",
              "    }\n",
              "\n",
              "    .dataframe thead th {\n",
              "        text-align: right;\n",
              "    }\n",
              "</style>\n",
              "<table border=\"1\" class=\"dataframe\">\n",
              "  <thead>\n",
              "    <tr style=\"text-align: right;\">\n",
              "      <th></th>\n",
              "      <th>mean_fit_time</th>\n",
              "      <th>std_fit_time</th>\n",
              "      <th>mean_score_time</th>\n",
              "      <th>std_score_time</th>\n",
              "      <th>param_C</th>\n",
              "      <th>param_degree</th>\n",
              "      <th>param_gamma</th>\n",
              "      <th>param_kernel</th>\n",
              "      <th>params</th>\n",
              "      <th>split0_test_score</th>\n",
              "      <th>split1_test_score</th>\n",
              "      <th>split2_test_score</th>\n",
              "      <th>split3_test_score</th>\n",
              "      <th>split4_test_score</th>\n",
              "      <th>mean_test_score</th>\n",
              "      <th>std_test_score</th>\n",
              "      <th>rank_test_score</th>\n",
              "    </tr>\n",
              "  </thead>\n",
              "  <tbody>\n",
              "    <tr>\n",
              "      <th>0</th>\n",
              "      <td>0.190784</td>\n",
              "      <td>0.043661</td>\n",
              "      <td>0.044574</td>\n",
              "      <td>0.002649</td>\n",
              "      <td>1</td>\n",
              "      <td>1</td>\n",
              "      <td>auto</td>\n",
              "      <td>linear</td>\n",
              "      <td>{'C': 1, 'degree': 1, 'gamma': 'auto', 'kernel...</td>\n",
              "      <td>0.413333</td>\n",
              "      <td>0.402222</td>\n",
              "      <td>0.377778</td>\n",
              "      <td>0.377778</td>\n",
              "      <td>0.415556</td>\n",
              "      <td>0.397333</td>\n",
              "      <td>0.016594</td>\n",
              "      <td>61</td>\n",
              "    </tr>\n",
              "    <tr>\n",
              "      <th>1</th>\n",
              "      <td>0.282573</td>\n",
              "      <td>0.014421</td>\n",
              "      <td>0.220088</td>\n",
              "      <td>0.010988</td>\n",
              "      <td>1</td>\n",
              "      <td>1</td>\n",
              "      <td>auto</td>\n",
              "      <td>rbf</td>\n",
              "      <td>{'C': 1, 'degree': 1, 'gamma': 'auto', 'kernel...</td>\n",
              "      <td>0.406667</td>\n",
              "      <td>0.397778</td>\n",
              "      <td>0.366667</td>\n",
              "      <td>0.375556</td>\n",
              "      <td>0.400000</td>\n",
              "      <td>0.389333</td>\n",
              "      <td>0.015422</td>\n",
              "      <td>72</td>\n",
              "    </tr>\n",
              "    <tr>\n",
              "      <th>2</th>\n",
              "      <td>0.212675</td>\n",
              "      <td>0.037756</td>\n",
              "      <td>0.041579</td>\n",
              "      <td>0.005275</td>\n",
              "      <td>1</td>\n",
              "      <td>1</td>\n",
              "      <td>auto</td>\n",
              "      <td>poly</td>\n",
              "      <td>{'C': 1, 'degree': 1, 'gamma': 'auto', 'kernel...</td>\n",
              "      <td>0.364444</td>\n",
              "      <td>0.377778</td>\n",
              "      <td>0.344444</td>\n",
              "      <td>0.346667</td>\n",
              "      <td>0.380000</td>\n",
              "      <td>0.362667</td>\n",
              "      <td>0.014967</td>\n",
              "      <td>84</td>\n",
              "    </tr>\n",
              "    <tr>\n",
              "      <th>3</th>\n",
              "      <td>0.180388</td>\n",
              "      <td>0.026739</td>\n",
              "      <td>0.042058</td>\n",
              "      <td>0.001155</td>\n",
              "      <td>1</td>\n",
              "      <td>1</td>\n",
              "      <td>scale</td>\n",
              "      <td>linear</td>\n",
              "      <td>{'C': 1, 'degree': 1, 'gamma': 'scale', 'kerne...</td>\n",
              "      <td>0.413333</td>\n",
              "      <td>0.402222</td>\n",
              "      <td>0.377778</td>\n",
              "      <td>0.377778</td>\n",
              "      <td>0.415556</td>\n",
              "      <td>0.397333</td>\n",
              "      <td>0.016594</td>\n",
              "      <td>61</td>\n",
              "    </tr>\n",
              "    <tr>\n",
              "      <th>4</th>\n",
              "      <td>0.260129</td>\n",
              "      <td>0.012769</td>\n",
              "      <td>0.199410</td>\n",
              "      <td>0.006950</td>\n",
              "      <td>1</td>\n",
              "      <td>1</td>\n",
              "      <td>scale</td>\n",
              "      <td>rbf</td>\n",
              "      <td>{'C': 1, 'degree': 1, 'gamma': 'scale', 'kerne...</td>\n",
              "      <td>0.413333</td>\n",
              "      <td>0.428889</td>\n",
              "      <td>0.375556</td>\n",
              "      <td>0.424444</td>\n",
              "      <td>0.444444</td>\n",
              "      <td>0.417333</td>\n",
              "      <td>0.023154</td>\n",
              "      <td>15</td>\n",
              "    </tr>\n",
              "    <tr>\n",
              "      <th>...</th>\n",
              "      <td>...</td>\n",
              "      <td>...</td>\n",
              "      <td>...</td>\n",
              "      <td>...</td>\n",
              "      <td>...</td>\n",
              "      <td>...</td>\n",
              "      <td>...</td>\n",
              "      <td>...</td>\n",
              "      <td>...</td>\n",
              "      <td>...</td>\n",
              "      <td>...</td>\n",
              "      <td>...</td>\n",
              "      <td>...</td>\n",
              "      <td>...</td>\n",
              "      <td>...</td>\n",
              "      <td>...</td>\n",
              "      <td>...</td>\n",
              "    </tr>\n",
              "    <tr>\n",
              "      <th>91</th>\n",
              "      <td>0.291698</td>\n",
              "      <td>0.050464</td>\n",
              "      <td>0.211576</td>\n",
              "      <td>0.020076</td>\n",
              "      <td>4</td>\n",
              "      <td>4</td>\n",
              "      <td>auto</td>\n",
              "      <td>rbf</td>\n",
              "      <td>{'C': 4, 'degree': 4, 'gamma': 'auto', 'kernel...</td>\n",
              "      <td>0.413333</td>\n",
              "      <td>0.426667</td>\n",
              "      <td>0.371111</td>\n",
              "      <td>0.417778</td>\n",
              "      <td>0.437778</td>\n",
              "      <td>0.413333</td>\n",
              "      <td>0.022706</td>\n",
              "      <td>20</td>\n",
              "    </tr>\n",
              "    <tr>\n",
              "      <th>92</th>\n",
              "      <td>0.330718</td>\n",
              "      <td>0.022684</td>\n",
              "      <td>0.052083</td>\n",
              "      <td>0.009162</td>\n",
              "      <td>4</td>\n",
              "      <td>4</td>\n",
              "      <td>auto</td>\n",
              "      <td>poly</td>\n",
              "      <td>{'C': 4, 'degree': 4, 'gamma': 'auto', 'kernel...</td>\n",
              "      <td>0.217778</td>\n",
              "      <td>0.220000</td>\n",
              "      <td>0.202222</td>\n",
              "      <td>0.222222</td>\n",
              "      <td>0.220000</td>\n",
              "      <td>0.216444</td>\n",
              "      <td>0.007249</td>\n",
              "      <td>93</td>\n",
              "    </tr>\n",
              "    <tr>\n",
              "      <th>93</th>\n",
              "      <td>0.199575</td>\n",
              "      <td>0.011735</td>\n",
              "      <td>0.042492</td>\n",
              "      <td>0.011719</td>\n",
              "      <td>4</td>\n",
              "      <td>4</td>\n",
              "      <td>scale</td>\n",
              "      <td>linear</td>\n",
              "      <td>{'C': 4, 'degree': 4, 'gamma': 'scale', 'kerne...</td>\n",
              "      <td>0.402222</td>\n",
              "      <td>0.413333</td>\n",
              "      <td>0.384444</td>\n",
              "      <td>0.404444</td>\n",
              "      <td>0.420000</td>\n",
              "      <td>0.404889</td>\n",
              "      <td>0.012041</td>\n",
              "      <td>31</td>\n",
              "    </tr>\n",
              "    <tr>\n",
              "      <th>94</th>\n",
              "      <td>0.279159</td>\n",
              "      <td>0.027457</td>\n",
              "      <td>0.198407</td>\n",
              "      <td>0.012196</td>\n",
              "      <td>4</td>\n",
              "      <td>4</td>\n",
              "      <td>scale</td>\n",
              "      <td>rbf</td>\n",
              "      <td>{'C': 4, 'degree': 4, 'gamma': 'scale', 'kerne...</td>\n",
              "      <td>0.422222</td>\n",
              "      <td>0.446667</td>\n",
              "      <td>0.404444</td>\n",
              "      <td>0.451111</td>\n",
              "      <td>0.453333</td>\n",
              "      <td>0.435556</td>\n",
              "      <td>0.019116</td>\n",
              "      <td>1</td>\n",
              "    </tr>\n",
              "    <tr>\n",
              "      <th>95</th>\n",
              "      <td>0.314674</td>\n",
              "      <td>0.017658</td>\n",
              "      <td>0.042818</td>\n",
              "      <td>0.001523</td>\n",
              "      <td>4</td>\n",
              "      <td>4</td>\n",
              "      <td>scale</td>\n",
              "      <td>poly</td>\n",
              "      <td>{'C': 4, 'degree': 4, 'gamma': 'scale', 'kerne...</td>\n",
              "      <td>0.388889</td>\n",
              "      <td>0.388889</td>\n",
              "      <td>0.375556</td>\n",
              "      <td>0.413333</td>\n",
              "      <td>0.417778</td>\n",
              "      <td>0.396889</td>\n",
              "      <td>0.016062</td>\n",
              "      <td>69</td>\n",
              "    </tr>\n",
              "  </tbody>\n",
              "</table>\n",
              "<p>96 rows × 17 columns</p>\n",
              "</div>"
            ],
            "text/plain": [
              "    mean_fit_time  std_fit_time  mean_score_time  std_score_time param_C  \\\n",
              "0        0.190784      0.043661         0.044574        0.002649       1   \n",
              "1        0.282573      0.014421         0.220088        0.010988       1   \n",
              "2        0.212675      0.037756         0.041579        0.005275       1   \n",
              "3        0.180388      0.026739         0.042058        0.001155       1   \n",
              "4        0.260129      0.012769         0.199410        0.006950       1   \n",
              "..            ...           ...              ...             ...     ...   \n",
              "91       0.291698      0.050464         0.211576        0.020076       4   \n",
              "92       0.330718      0.022684         0.052083        0.009162       4   \n",
              "93       0.199575      0.011735         0.042492        0.011719       4   \n",
              "94       0.279159      0.027457         0.198407        0.012196       4   \n",
              "95       0.314674      0.017658         0.042818        0.001523       4   \n",
              "\n",
              "   param_degree param_gamma param_kernel  \\\n",
              "0             1        auto       linear   \n",
              "1             1        auto          rbf   \n",
              "2             1        auto         poly   \n",
              "3             1       scale       linear   \n",
              "4             1       scale          rbf   \n",
              "..          ...         ...          ...   \n",
              "91            4        auto          rbf   \n",
              "92            4        auto         poly   \n",
              "93            4       scale       linear   \n",
              "94            4       scale          rbf   \n",
              "95            4       scale         poly   \n",
              "\n",
              "                                               params  split0_test_score  \\\n",
              "0   {'C': 1, 'degree': 1, 'gamma': 'auto', 'kernel...           0.413333   \n",
              "1   {'C': 1, 'degree': 1, 'gamma': 'auto', 'kernel...           0.406667   \n",
              "2   {'C': 1, 'degree': 1, 'gamma': 'auto', 'kernel...           0.364444   \n",
              "3   {'C': 1, 'degree': 1, 'gamma': 'scale', 'kerne...           0.413333   \n",
              "4   {'C': 1, 'degree': 1, 'gamma': 'scale', 'kerne...           0.413333   \n",
              "..                                                ...                ...   \n",
              "91  {'C': 4, 'degree': 4, 'gamma': 'auto', 'kernel...           0.413333   \n",
              "92  {'C': 4, 'degree': 4, 'gamma': 'auto', 'kernel...           0.217778   \n",
              "93  {'C': 4, 'degree': 4, 'gamma': 'scale', 'kerne...           0.402222   \n",
              "94  {'C': 4, 'degree': 4, 'gamma': 'scale', 'kerne...           0.422222   \n",
              "95  {'C': 4, 'degree': 4, 'gamma': 'scale', 'kerne...           0.388889   \n",
              "\n",
              "    split1_test_score  split2_test_score  split3_test_score  \\\n",
              "0            0.402222           0.377778           0.377778   \n",
              "1            0.397778           0.366667           0.375556   \n",
              "2            0.377778           0.344444           0.346667   \n",
              "3            0.402222           0.377778           0.377778   \n",
              "4            0.428889           0.375556           0.424444   \n",
              "..                ...                ...                ...   \n",
              "91           0.426667           0.371111           0.417778   \n",
              "92           0.220000           0.202222           0.222222   \n",
              "93           0.413333           0.384444           0.404444   \n",
              "94           0.446667           0.404444           0.451111   \n",
              "95           0.388889           0.375556           0.413333   \n",
              "\n",
              "    split4_test_score  mean_test_score  std_test_score  rank_test_score  \n",
              "0            0.415556         0.397333        0.016594               61  \n",
              "1            0.400000         0.389333        0.015422               72  \n",
              "2            0.380000         0.362667        0.014967               84  \n",
              "3            0.415556         0.397333        0.016594               61  \n",
              "4            0.444444         0.417333        0.023154               15  \n",
              "..                ...              ...             ...              ...  \n",
              "91           0.437778         0.413333        0.022706               20  \n",
              "92           0.220000         0.216444        0.007249               93  \n",
              "93           0.420000         0.404889        0.012041               31  \n",
              "94           0.453333         0.435556        0.019116                1  \n",
              "95           0.417778         0.396889        0.016062               69  \n",
              "\n",
              "[96 rows x 17 columns]"
            ]
          },
          "execution_count": 399,
          "metadata": {},
          "output_type": "execute_result"
        }
      ],
      "source": [
        "pd.DataFrame(grid.cv_results_)"
      ]
    },
    {
      "cell_type": "code",
      "execution_count": null,
      "id": "56b633e1-a019-439d-961d-9353142ad65e",
      "metadata": {
        "id": "56b633e1-a019-439d-961d-9353142ad65e"
      },
      "outputs": [],
      "source": [
        "best_model = grid.best_estimator_"
      ]
    },
    {
      "cell_type": "markdown",
      "id": "54f9d937-14f3-4819-bfca-0c7be919b4ca",
      "metadata": {
        "id": "54f9d937-14f3-4819-bfca-0c7be919b4ca"
      },
      "source": [
        "#### Training and evaluating the best model obtained after tuning"
      ]
    },
    {
      "cell_type": "code",
      "execution_count": null,
      "id": "f1729065-ad62-4980-a58f-664d4474183d",
      "metadata": {
        "id": "f1729065-ad62-4980-a58f-664d4474183d",
        "outputId": "48e6f28c-eeff-498a-f925-a23c4b4bd41a"
      },
      "outputs": [
        {
          "data": {
            "text/html": [
              "<style>#sk-container-id-23 {color: black;}#sk-container-id-23 pre{padding: 0;}#sk-container-id-23 div.sk-toggleable {background-color: white;}#sk-container-id-23 label.sk-toggleable__label {cursor: pointer;display: block;width: 100%;margin-bottom: 0;padding: 0.3em;box-sizing: border-box;text-align: center;}#sk-container-id-23 label.sk-toggleable__label-arrow:before {content: \"▸\";float: left;margin-right: 0.25em;color: #696969;}#sk-container-id-23 label.sk-toggleable__label-arrow:hover:before {color: black;}#sk-container-id-23 div.sk-estimator:hover label.sk-toggleable__label-arrow:before {color: black;}#sk-container-id-23 div.sk-toggleable__content {max-height: 0;max-width: 0;overflow: hidden;text-align: left;background-color: #f0f8ff;}#sk-container-id-23 div.sk-toggleable__content pre {margin: 0.2em;color: black;border-radius: 0.25em;background-color: #f0f8ff;}#sk-container-id-23 input.sk-toggleable__control:checked~div.sk-toggleable__content {max-height: 200px;max-width: 100%;overflow: auto;}#sk-container-id-23 input.sk-toggleable__control:checked~label.sk-toggleable__label-arrow:before {content: \"▾\";}#sk-container-id-23 div.sk-estimator input.sk-toggleable__control:checked~label.sk-toggleable__label {background-color: #d4ebff;}#sk-container-id-23 div.sk-label input.sk-toggleable__control:checked~label.sk-toggleable__label {background-color: #d4ebff;}#sk-container-id-23 input.sk-hidden--visually {border: 0;clip: rect(1px 1px 1px 1px);clip: rect(1px, 1px, 1px, 1px);height: 1px;margin: -1px;overflow: hidden;padding: 0;position: absolute;width: 1px;}#sk-container-id-23 div.sk-estimator {font-family: monospace;background-color: #f0f8ff;border: 1px dotted black;border-radius: 0.25em;box-sizing: border-box;margin-bottom: 0.5em;}#sk-container-id-23 div.sk-estimator:hover {background-color: #d4ebff;}#sk-container-id-23 div.sk-parallel-item::after {content: \"\";width: 100%;border-bottom: 1px solid gray;flex-grow: 1;}#sk-container-id-23 div.sk-label:hover label.sk-toggleable__label {background-color: #d4ebff;}#sk-container-id-23 div.sk-serial::before {content: \"\";position: absolute;border-left: 1px solid gray;box-sizing: border-box;top: 0;bottom: 0;left: 50%;z-index: 0;}#sk-container-id-23 div.sk-serial {display: flex;flex-direction: column;align-items: center;background-color: white;padding-right: 0.2em;padding-left: 0.2em;position: relative;}#sk-container-id-23 div.sk-item {position: relative;z-index: 1;}#sk-container-id-23 div.sk-parallel {display: flex;align-items: stretch;justify-content: center;background-color: white;position: relative;}#sk-container-id-23 div.sk-item::before, #sk-container-id-23 div.sk-parallel-item::before {content: \"\";position: absolute;border-left: 1px solid gray;box-sizing: border-box;top: 0;bottom: 0;left: 50%;z-index: -1;}#sk-container-id-23 div.sk-parallel-item {display: flex;flex-direction: column;z-index: 1;position: relative;background-color: white;}#sk-container-id-23 div.sk-parallel-item:first-child::after {align-self: flex-end;width: 50%;}#sk-container-id-23 div.sk-parallel-item:last-child::after {align-self: flex-start;width: 50%;}#sk-container-id-23 div.sk-parallel-item:only-child::after {width: 0;}#sk-container-id-23 div.sk-dashed-wrapped {border: 1px dashed gray;margin: 0 0.4em 0.5em 0.4em;box-sizing: border-box;padding-bottom: 0.4em;background-color: white;}#sk-container-id-23 div.sk-label label {font-family: monospace;font-weight: bold;display: inline-block;line-height: 1.2em;}#sk-container-id-23 div.sk-label-container {text-align: center;}#sk-container-id-23 div.sk-container {/* jupyter's `normalize.less` sets `[hidden] { display: none; }` but bootstrap.min.css set `[hidden] { display: none !important; }` so we also need the `!important` here to be able to override the default hidden behavior on the sphinx rendered scikit-learn.org. See: https://github.com/scikit-learn/scikit-learn/issues/21755 */display: inline-block !important;position: relative;}#sk-container-id-23 div.sk-text-repr-fallback {display: none;}</style><div id=\"sk-container-id-23\" class=\"sk-top-container\"><div class=\"sk-text-repr-fallback\"><pre>SVC(C=4, degree=1)</pre><b>In a Jupyter environment, please rerun this cell to show the HTML representation or trust the notebook. <br />On GitHub, the HTML representation is unable to render, please try loading this page with nbviewer.org.</b></div><div class=\"sk-container\" hidden><div class=\"sk-item\"><div class=\"sk-estimator sk-toggleable\"><input class=\"sk-toggleable__control sk-hidden--visually\" id=\"sk-estimator-id-35\" type=\"checkbox\" checked><label for=\"sk-estimator-id-35\" class=\"sk-toggleable__label sk-toggleable__label-arrow\">SVC</label><div class=\"sk-toggleable__content\"><pre>SVC(C=4, degree=1)</pre></div></div></div></div></div>"
            ],
            "text/plain": [
              "SVC(C=4, degree=1)"
            ]
          },
          "execution_count": 401,
          "metadata": {},
          "output_type": "execute_result"
        }
      ],
      "source": [
        "best_model.fit(X_train, y_train)"
      ]
    },
    {
      "cell_type": "code",
      "execution_count": null,
      "id": "25e5315a-a04d-408b-b490-b99fc9fca923",
      "metadata": {
        "id": "25e5315a-a04d-408b-b490-b99fc9fca923",
        "outputId": "f7896df0-b6a1-4603-a581-dab324a3d8c3"
      },
      "outputs": [
        {
          "name": "stdout",
          "output_type": "stream",
          "text": [
            "Train Accuracy: 0.48577777777777775\n",
            "Test Accuracy: 0.464\n"
          ]
        }
      ],
      "source": [
        "# Making predictions on train set\n",
        "\n",
        "y_train_pred = best_model.predict(X_train)\n",
        "print(\"Train Accuracy:\", metrics.accuracy_score(y_train, y_train_pred))\n",
        "\n",
        "# Evaluating the model on test set\n",
        "\n",
        "y_test_pred = best_model.predict(X_test)\n",
        "print(\"Test Accuracy:\", metrics.accuracy_score(y_test, y_test_pred))"
      ]
    },
    {
      "cell_type": "code",
      "execution_count": null,
      "id": "f135a886-075b-456b-82a5-40f3e9eb1066",
      "metadata": {
        "id": "f135a886-075b-456b-82a5-40f3e9eb1066",
        "outputId": "0bdb1317-0a0a-4eb8-bcfe-6a84163a28a2"
      },
      "outputs": [
        {
          "name": "stdout",
          "output_type": "stream",
          "text": [
            "              precision    recall  f1-score   support\n",
            "\n",
            "           0       0.30      0.28      0.29        25\n",
            "           1       0.53      0.36      0.43        25\n",
            "           2       0.48      0.44      0.46        25\n",
            "           3       0.78      0.84      0.81        25\n",
            "           4       0.35      0.68      0.46        25\n",
            "           5       0.64      0.36      0.46        25\n",
            "           6       0.54      0.28      0.37        25\n",
            "           7       0.62      0.60      0.61        25\n",
            "           8       0.33      0.52      0.40        25\n",
            "           9       0.35      0.28      0.31        25\n",
            "\n",
            "    accuracy                           0.46       250\n",
            "   macro avg       0.49      0.46      0.46       250\n",
            "weighted avg       0.49      0.46      0.46       250\n",
            "\n"
          ]
        },
        {
          "data": {
            "image/png": "[encoded data removed]",
            "text/plain": [
              "<Figure size 640x480 with 2 Axes>"
            ]
          },
          "metadata": {},
          "output_type": "display_data"
        }
      ],
      "source": [
        "# Evaluation metrics\n",
        "\n",
        "clf_report = metrics.classification_report(y_test, y_test_pred)\n",
        "print(clf_report)\n",
        "\n",
        "conf_matrix = metrics.confusion_matrix(y_test, y_test_pred)\n",
        "\n",
        "sns.heatmap(conf_matrix, annot = True)\n",
        "plt.xlabel(\"Predicted\")\n",
        "plt.ylabel(\"True\")\n",
        "plt.show()"
      ]
    },
    {
      "cell_type": "markdown",
      "id": "2d738298-eec8-4b51-a8c5-c761386a1b0a",
      "metadata": {
        "id": "2d738298-eec8-4b51-a8c5-c761386a1b0a"
      },
      "source": [
        "## Logistic Regression"
      ]
    },
    {
      "cell_type": "markdown",
      "id": "fd45b4ca-f189-4b3a-b5af-96906b56b6c6",
      "metadata": {
        "id": "fd45b4ca-f189-4b3a-b5af-96906b56b6c6"
      },
      "source": [
        "#### Model Training"
      ]
    },
    {
      "cell_type": "code",
      "execution_count": null,
      "id": "cf2bd0ec-4f5a-4d88-878e-494814cc07d2",
      "metadata": {
        "id": "cf2bd0ec-4f5a-4d88-878e-494814cc07d2",
        "outputId": "59fb8ade-2d09-427a-a330-664eff36700e"
      },
      "outputs": [
        {
          "data": {
            "text/html": [
              "<style>#sk-container-id-24 {color: black;}#sk-container-id-24 pre{padding: 0;}#sk-container-id-24 div.sk-toggleable {background-color: white;}#sk-container-id-24 label.sk-toggleable__label {cursor: pointer;display: block;width: 100%;margin-bottom: 0;padding: 0.3em;box-sizing: border-box;text-align: center;}#sk-container-id-24 label.sk-toggleable__label-arrow:before {content: \"▸\";float: left;margin-right: 0.25em;color: #696969;}#sk-container-id-24 label.sk-toggleable__label-arrow:hover:before {color: black;}#sk-container-id-24 div.sk-estimator:hover label.sk-toggleable__label-arrow:before {color: black;}#sk-container-id-24 div.sk-toggleable__content {max-height: 0;max-width: 0;overflow: hidden;text-align: left;background-color: #f0f8ff;}#sk-container-id-24 div.sk-toggleable__content pre {margin: 0.2em;color: black;border-radius: 0.25em;background-color: #f0f8ff;}#sk-container-id-24 input.sk-toggleable__control:checked~div.sk-toggleable__content {max-height: 200px;max-width: 100%;overflow: auto;}#sk-container-id-24 input.sk-toggleable__control:checked~label.sk-toggleable__label-arrow:before {content: \"▾\";}#sk-container-id-24 div.sk-estimator input.sk-toggleable__control:checked~label.sk-toggleable__label {background-color: #d4ebff;}#sk-container-id-24 div.sk-label input.sk-toggleable__control:checked~label.sk-toggleable__label {background-color: #d4ebff;}#sk-container-id-24 input.sk-hidden--visually {border: 0;clip: rect(1px 1px 1px 1px);clip: rect(1px, 1px, 1px, 1px);height: 1px;margin: -1px;overflow: hidden;padding: 0;position: absolute;width: 1px;}#sk-container-id-24 div.sk-estimator {font-family: monospace;background-color: #f0f8ff;border: 1px dotted black;border-radius: 0.25em;box-sizing: border-box;margin-bottom: 0.5em;}#sk-container-id-24 div.sk-estimator:hover {background-color: #d4ebff;}#sk-container-id-24 div.sk-parallel-item::after {content: \"\";width: 100%;border-bottom: 1px solid gray;flex-grow: 1;}#sk-container-id-24 div.sk-label:hover label.sk-toggleable__label {background-color: #d4ebff;}#sk-container-id-24 div.sk-serial::before {content: \"\";position: absolute;border-left: 1px solid gray;box-sizing: border-box;top: 0;bottom: 0;left: 50%;z-index: 0;}#sk-container-id-24 div.sk-serial {display: flex;flex-direction: column;align-items: center;background-color: white;padding-right: 0.2em;padding-left: 0.2em;position: relative;}#sk-container-id-24 div.sk-item {position: relative;z-index: 1;}#sk-container-id-24 div.sk-parallel {display: flex;align-items: stretch;justify-content: center;background-color: white;position: relative;}#sk-container-id-24 div.sk-item::before, #sk-container-id-24 div.sk-parallel-item::before {content: \"\";position: absolute;border-left: 1px solid gray;box-sizing: border-box;top: 0;bottom: 0;left: 50%;z-index: -1;}#sk-container-id-24 div.sk-parallel-item {display: flex;flex-direction: column;z-index: 1;position: relative;background-color: white;}#sk-container-id-24 div.sk-parallel-item:first-child::after {align-self: flex-end;width: 50%;}#sk-container-id-24 div.sk-parallel-item:last-child::after {align-self: flex-start;width: 50%;}#sk-container-id-24 div.sk-parallel-item:only-child::after {width: 0;}#sk-container-id-24 div.sk-dashed-wrapped {border: 1px dashed gray;margin: 0 0.4em 0.5em 0.4em;box-sizing: border-box;padding-bottom: 0.4em;background-color: white;}#sk-container-id-24 div.sk-label label {font-family: monospace;font-weight: bold;display: inline-block;line-height: 1.2em;}#sk-container-id-24 div.sk-label-container {text-align: center;}#sk-container-id-24 div.sk-container {/* jupyter's `normalize.less` sets `[hidden] { display: none; }` but bootstrap.min.css set `[hidden] { display: none !important; }` so we also need the `!important` here to be able to override the default hidden behavior on the sphinx rendered scikit-learn.org. See: https://github.com/scikit-learn/scikit-learn/issues/21755 */display: inline-block !important;position: relative;}#sk-container-id-24 div.sk-text-repr-fallback {display: none;}</style><div id=\"sk-container-id-24\" class=\"sk-top-container\"><div class=\"sk-text-repr-fallback\"><pre>LogisticRegression()</pre><b>In a Jupyter environment, please rerun this cell to show the HTML representation or trust the notebook. <br />On GitHub, the HTML representation is unable to render, please try loading this page with nbviewer.org.</b></div><div class=\"sk-container\" hidden><div class=\"sk-item\"><div class=\"sk-estimator sk-toggleable\"><input class=\"sk-toggleable__control sk-hidden--visually\" id=\"sk-estimator-id-36\" type=\"checkbox\" checked><label for=\"sk-estimator-id-36\" class=\"sk-toggleable__label sk-toggleable__label-arrow\">LogisticRegression</label><div class=\"sk-toggleable__content\"><pre>LogisticRegression()</pre></div></div></div></div></div>"
            ],
            "text/plain": [
              "LogisticRegression()"
            ]
          },
          "execution_count": 404,
          "metadata": {},
          "output_type": "execute_result"
        }
      ],
      "source": [
        "# Training Logistic Regression Model\n",
        "\n",
        "model = linear_model.LogisticRegression()\n",
        "\n",
        "model.fit(X_train, y_train)"
      ]
    },
    {
      "cell_type": "code",
      "execution_count": null,
      "id": "7f5b4338-adcd-44bd-aa74-51153064d28a",
      "metadata": {
        "id": "7f5b4338-adcd-44bd-aa74-51153064d28a",
        "outputId": "a9c09413-3bfe-43e8-ece8-f23a9485fbbb"
      },
      "outputs": [
        {
          "name": "stdout",
          "output_type": "stream",
          "text": [
            "Train Accuracy: 0.4111111111111111\n"
          ]
        }
      ],
      "source": [
        "# Making predictions on train set\n",
        "\n",
        "y_train_pred = model.predict(X_train)\n",
        "print(\"Train Accuracy:\", model.score(X_train, y_train))"
      ]
    },
    {
      "cell_type": "markdown",
      "id": "b7edc8f0-7c42-4bae-925b-5dc519e0f7c4",
      "metadata": {
        "id": "b7edc8f0-7c42-4bae-925b-5dc519e0f7c4"
      },
      "source": [
        "#### Model Evaluation"
      ]
    },
    {
      "cell_type": "code",
      "execution_count": null,
      "id": "36f4675b-c317-463e-bec5-dec4424d6749",
      "metadata": {
        "id": "36f4675b-c317-463e-bec5-dec4424d6749",
        "outputId": "a47f7f06-adfb-4499-fdaf-9cc6aba2f60a"
      },
      "outputs": [
        {
          "name": "stdout",
          "output_type": "stream",
          "text": [
            "Test Accuracy: 0.432\n"
          ]
        }
      ],
      "source": [
        "# Evaluating the model on test set\n",
        "\n",
        "y_test_pred = model.predict(X_test)\n",
        "print(\"Test Accuracy:\", model.score(X_test, y_test))\n",
        "\n",
        "### Observation: Strongly Overfitting"
      ]
    },
    {
      "cell_type": "markdown",
      "id": "111b3374-3519-43c7-87b9-501f1b250a80",
      "metadata": {
        "id": "111b3374-3519-43c7-87b9-501f1b250a80"
      },
      "source": [
        "#### Cross Validation"
      ]
    },
    {
      "cell_type": "code",
      "execution_count": null,
      "id": "2cd0cde0-9605-4b5b-879c-f1dbd2aeeccc",
      "metadata": {
        "id": "2cd0cde0-9605-4b5b-879c-f1dbd2aeeccc",
        "outputId": "f4cca477-2902-4798-9ba0-c6b6708e67a5"
      },
      "outputs": [
        {
          "name": "stdout",
          "output_type": "stream",
          "text": [
            "Cross validation accuracy (avg): 0.40355555555555556\n"
          ]
        }
      ],
      "source": [
        "# Performing K-Fold cross validation\n",
        "\n",
        "cross_val_scores = model_selection.cross_val_score(base.clone(model), X_train, y_train, cv = 5)\n",
        "print(\"Cross validation accuracy (avg):\", cross_val_scores.sum() / len(cross_val_scores))"
      ]
    },
    {
      "cell_type": "code",
      "execution_count": null,
      "id": "dad9edfa-2169-4abc-a394-f29025297b75",
      "metadata": {
        "id": "dad9edfa-2169-4abc-a394-f29025297b75",
        "outputId": "3ee5685c-9059-440b-b536-cda62fe82e43"
      },
      "outputs": [
        {
          "name": "stdout",
          "output_type": "stream",
          "text": [
            "              precision    recall  f1-score   support\n",
            "\n",
            "           0       0.27      0.24      0.26        25\n",
            "           1       0.50      0.40      0.44        25\n",
            "           2       0.60      0.36      0.45        25\n",
            "           3       0.79      0.92      0.85        25\n",
            "           4       0.24      0.48      0.32        25\n",
            "           5       0.65      0.44      0.52        25\n",
            "           6       0.41      0.44      0.42        25\n",
            "           7       0.62      0.60      0.61        25\n",
            "           8       0.33      0.40      0.36        25\n",
            "           9       0.06      0.04      0.05        25\n",
            "\n",
            "    accuracy                           0.43       250\n",
            "   macro avg       0.45      0.43      0.43       250\n",
            "weighted avg       0.45      0.43      0.43       250\n",
            "\n"
          ]
        },
        {
          "data": {
            "image/png": "[encoded data removed]",
            "text/plain": [
              "<Figure size 640x480 with 2 Axes>"
            ]
          },
          "metadata": {},
          "output_type": "display_data"
        }
      ],
      "source": [
        "# Evaluation metrics\n",
        "\n",
        "clf_report = metrics.classification_report(y_test, y_test_pred)\n",
        "print(clf_report)\n",
        "\n",
        "conf_matrix = metrics.confusion_matrix(y_test, y_test_pred)\n",
        "\n",
        "sns.heatmap(conf_matrix, annot = True)\n",
        "plt.xlabel(\"Predicted\")\n",
        "plt.ylabel(\"True\")\n",
        "plt.show()"
      ]
    },
    {
      "cell_type": "markdown",
      "id": "fbcf0b75-3803-4b5a-b480-618f0dd991cc",
      "metadata": {
        "id": "fbcf0b75-3803-4b5a-b480-618f0dd991cc"
      },
      "source": [
        "----"
      ]
    },
    {
      "cell_type": "markdown",
      "id": "b072731f-30cc-41c6-975a-daaf3cbdb233",
      "metadata": {
        "id": "b072731f-30cc-41c6-975a-daaf3cbdb233"
      },
      "source": [
        "## Artificial Neural Network"
      ]
    },
    {
      "cell_type": "code",
      "execution_count": null,
      "id": "f0c3c461-10e9-4bc4-9189-fcda1c467534",
      "metadata": {
        "id": "f0c3c461-10e9-4bc4-9189-fcda1c467534"
      },
      "outputs": [],
      "source": [
        "def prepare_data(df, target, test_split = 0.02, val_split = 0.05):\n",
        "    X = df.drop(target, axis = 1).values\n",
        "    y = df[target].values\n",
        "    X_train_val, X_test, y_train_val, y_test = model_selection.train_test_split(X, y, random_state = 7, stratify = y, test_size = test_split)\n",
        "    X_train, X_val, y_train, y_val = model_selection.train_test_split(X_train_val, y_train_val, random_state = 7, stratify = y_train_val, test_size = val_split)\n",
        "    scaler = preprocessing.MinMaxScaler()\n",
        "    X_train = scaler.fit_transform(X_train)\n",
        "    X_val = scaler.fit_transform(X_val)\n",
        "    X_test = scaler.fit_transform(X_test)\n",
        "    return ((X_train, y_train), (X_val, y_val), (X_test, y_test))"
      ]
    },
    {
      "cell_type": "code",
      "execution_count": null,
      "id": "60b94d46-d6cc-4a55-a304-19798f90d9f9",
      "metadata": {
        "id": "60b94d46-d6cc-4a55-a304-19798f90d9f9",
        "outputId": "31842f1c-987d-41b3-8e87-6303734b4f1c"
      },
      "outputs": [
        {
          "name": "stdout",
          "output_type": "stream",
          "text": [
            "(46549, 12) (2450, 12) (1000, 12)\n"
          ]
        }
      ],
      "source": [
        "(X_train, y_train), (X_val, y_val), (X_test, y_test) = prepare_data(df, target)\n",
        "\n",
        "print(X_train.shape, X_val.shape, X_test.shape)"
      ]
    },
    {
      "cell_type": "code",
      "execution_count": null,
      "id": "9b354ad3-31e6-4f9d-93da-13704f6e03f4",
      "metadata": {
        "id": "9b354ad3-31e6-4f9d-93da-13704f6e03f4"
      },
      "outputs": [],
      "source": [
        "model = tf.keras.models.Sequential([\n",
        "    tf.keras.layers.Input(shape = X_train.shape[1:]),\n",
        "    tf.keras.layers.Dense(units = 2000, kernel_initializer = \"he_normal\"),\n",
        "    tf.keras.layers.BatchNormalization(),\n",
        "    tf.keras.layers.Activation(activation = \"elu\"),\n",
        "    tf.keras.layers.Input(shape = X_train.shape[1:]),\n",
        "    tf.keras.layers.Dense(units = 1000, kernel_initializer = \"he_normal\"),\n",
        "    tf.keras.layers.BatchNormalization(),\n",
        "    tf.keras.layers.Activation(activation = \"elu\"),\n",
        "    tf.keras.layers.Dense(units = 500, kernel_initializer = \"he_normal\"),\n",
        "    tf.keras.layers.BatchNormalization(),\n",
        "    tf.keras.layers.Activation(activation = \"elu\"),\n",
        "    tf.keras.layers.Dense(units = 100, kernel_initializer = \"he_normal\"),\n",
        "    tf.keras.layers.BatchNormalization(),\n",
        "    tf.keras.layers.Activation(activation = \"elu\"),\n",
        "    tf.keras.layers.Dense(units = 50, kernel_initializer = \"he_normal\"),\n",
        "    tf.keras.layers.BatchNormalization(),\n",
        "    tf.keras.layers.Activation(activation = \"elu\"),\n",
        "    tf.keras.layers.Dense(units = num_classes, activation = \"softmax\")\n",
        "])\n",
        "\n",
        "model.compile(optimizer = \"adam\", loss = \"sparse_categorical_crossentropy\", metrics = [\"accuracy\"])"
      ]
    },
    {
      "cell_type": "code",
      "execution_count": null,
      "id": "e9674d46-04e9-44c8-b6b6-02800ea60315",
      "metadata": {
        "scrolled": true,
        "id": "e9674d46-04e9-44c8-b6b6-02800ea60315",
        "outputId": "5a156134-9e41-499c-98c0-6abfb6e5fd42"
      },
      "outputs": [
        {
          "name": "stdout",
          "output_type": "stream",
          "text": [
            "Model: \"sequential_13\"\n",
            "_________________________________________________________________\n",
            " Layer (type)                Output Shape              Param #   \n",
            "=================================================================\n",
            " dense_56 (Dense)            (None, 2000)              26000     \n",
            "                                                                 \n",
            " batch_normalization_34 (Ba  (None, 2000)              8000      \n",
            " tchNormalization)                                               \n",
            "                                                                 \n",
            " activation_33 (Activation)  (None, 2000)              0         \n",
            "                                                                 \n",
            " input_17 (InputLayer)       multiple                  0         \n",
            "                                                                 \n",
            " dense_57 (Dense)            (None, 1000)              2001000   \n",
            "                                                                 \n",
            " batch_normalization_35 (Ba  (None, 1000)              4000      \n",
            " tchNormalization)                                               \n",
            "                                                                 \n",
            " activation_34 (Activation)  (None, 1000)              0         \n",
            "                                                                 \n",
            " dense_58 (Dense)            (None, 500)               500500    \n",
            "                                                                 \n",
            " batch_normalization_36 (Ba  (None, 500)               2000      \n",
            " tchNormalization)                                               \n",
            "                                                                 \n",
            " activation_35 (Activation)  (None, 500)               0         \n",
            "                                                                 \n",
            " dense_59 (Dense)            (None, 100)               50100     \n",
            "                                                                 \n",
            " batch_normalization_37 (Ba  (None, 100)               400       \n",
            " tchNormalization)                                               \n",
            "                                                                 \n",
            " activation_36 (Activation)  (None, 100)               0         \n",
            "                                                                 \n",
            " dense_60 (Dense)            (None, 50)                5050      \n",
            "                                                                 \n",
            " batch_normalization_38 (Ba  (None, 50)                200       \n",
            " tchNormalization)                                               \n",
            "                                                                 \n",
            " activation_37 (Activation)  (None, 50)                0         \n",
            "                                                                 \n",
            " dense_61 (Dense)            (None, 10)                510       \n",
            "                                                                 \n",
            "=================================================================\n",
            "Total params: 2597760 (9.91 MB)\n",
            "Trainable params: 2590460 (9.88 MB)\n",
            "Non-trainable params: 7300 (28.52 KB)\n",
            "_________________________________________________________________\n"
          ]
        }
      ],
      "source": [
        "model.summary()"
      ]
    },
    {
      "cell_type": "code",
      "execution_count": null,
      "id": "d3ca85b1-c47b-4c05-9690-6fe5df3598e2",
      "metadata": {
        "id": "d3ca85b1-c47b-4c05-9690-6fe5df3598e2",
        "outputId": "2fc30727-11d5-4fe2-9241-83e277f031e6"
      },
      "outputs": [
        {
          "name": "stdout",
          "output_type": "stream",
          "text": [
            "Epoch 1/50\n",
            "1455/1455 [==============================] - 88s 56ms/step - loss: 1.3357 - accuracy: 0.4945 - val_loss: 1.2898 - val_accuracy: 0.5167\n",
            "Epoch 2/50\n",
            "1455/1455 [==============================] - 74s 51ms/step - loss: 1.2588 - accuracy: 0.5176 - val_loss: 1.2983 - val_accuracy: 0.5118\n",
            "Epoch 3/50\n",
            "1455/1455 [==============================] - 76s 52ms/step - loss: 1.2382 - accuracy: 0.5259 - val_loss: 1.2899 - val_accuracy: 0.5127\n",
            "Epoch 4/50\n",
            "1455/1455 [==============================] - 80s 55ms/step - loss: 1.2229 - accuracy: 0.5289 - val_loss: 1.2855 - val_accuracy: 0.5131\n",
            "Epoch 5/50\n",
            "1455/1455 [==============================] - 77s 53ms/step - loss: 1.2000 - accuracy: 0.5353 - val_loss: 1.4744 - val_accuracy: 0.4641\n",
            "Epoch 6/50\n",
            "1455/1455 [==============================] - 75s 51ms/step - loss: 1.1890 - accuracy: 0.5394 - val_loss: 1.5703 - val_accuracy: 0.4478\n",
            "Epoch 7/50\n",
            "1455/1455 [==============================] - 76s 52ms/step - loss: 1.1849 - accuracy: 0.5418 - val_loss: 1.8656 - val_accuracy: 0.4147\n",
            "Epoch 8/50\n",
            "1455/1455 [==============================] - 76s 53ms/step - loss: 1.1732 - accuracy: 0.5472 - val_loss: 1.8639 - val_accuracy: 0.4188\n",
            "Epoch 9/50\n",
            "1455/1455 [==============================] - 74s 51ms/step - loss: 1.1652 - accuracy: 0.5486 - val_loss: 2.0761 - val_accuracy: 0.3984\n"
          ]
        }
      ],
      "source": [
        "# Training the neural network\n",
        "\n",
        "cb = tf.keras.callbacks.EarlyStopping(patience = 5, restore_best_weights = True)\n",
        "\n",
        "history = model.fit(X_train, y_train, epochs = 50, validation_data = (X_val, y_val), callbacks = [cb])"
      ]
    },
    {
      "cell_type": "code",
      "execution_count": null,
      "id": "e9d8a6d7-ad43-455b-b04b-07415d98bfe8",
      "metadata": {
        "id": "e9d8a6d7-ad43-455b-b04b-07415d98bfe8",
        "outputId": "f4a12353-cf23-4beb-ac66-9aa0211f905e"
      },
      "outputs": [
        {
          "data": {
            "image/png": "[encoded data removed]",
            "text/plain": [
              "<Figure size 640x480 with 1 Axes>"
            ]
          },
          "metadata": {},
          "output_type": "display_data"
        }
      ],
      "source": [
        "result_df = pd.DataFrame(history.history)\n",
        "\n",
        "result_df.plot()\n",
        "plt.show()"
      ]
    },
    {
      "cell_type": "code",
      "execution_count": null,
      "id": "de409647-3653-47e7-bc6e-832fe7f04b2a",
      "metadata": {
        "id": "de409647-3653-47e7-bc6e-832fe7f04b2a",
        "outputId": "5312bc79-d41d-40ec-d92a-d7401a57686a"
      },
      "outputs": [
        {
          "name": "stdout",
          "output_type": "stream",
          "text": [
            "32/32 [==============================] - 0s 10ms/step - loss: 1.3735 - accuracy: 0.4920\n"
          ]
        },
        {
          "data": {
            "text/plain": [
              "[1.37350332736969, 0.492000013589859]"
            ]
          },
          "execution_count": 415,
          "metadata": {},
          "output_type": "execute_result"
        }
      ],
      "source": [
        "model.evaluate(X_test, y_test)"
      ]
    },
    {
      "cell_type": "code",
      "execution_count": null,
      "id": "79e70377-02c1-4228-b0b6-99a9d653a5fa",
      "metadata": {
        "id": "79e70377-02c1-4228-b0b6-99a9d653a5fa",
        "outputId": "20ff89e8-75c9-4faa-8494-d02ce5819f84"
      },
      "outputs": [
        {
          "name": "stdout",
          "output_type": "stream",
          "text": [
            "32/32 [==============================] - 1s 11ms/step\n",
            "              precision    recall  f1-score   support\n",
            "\n",
            "           0    0.35417   0.17000   0.22973       100\n",
            "           1    0.77778   0.56000   0.65116       100\n",
            "           2    0.72973   0.27000   0.39416       100\n",
            "           3    0.73950   0.88000   0.80365       100\n",
            "           4    0.52632   0.20000   0.28986       100\n",
            "           5    0.51163   0.66000   0.57642       100\n",
            "           6    0.41489   0.39000   0.40206       100\n",
            "           7    0.46341   0.38000   0.41758       100\n",
            "           8    0.40496   0.49000   0.44344       100\n",
            "           9    0.35385   0.92000   0.51111       100\n",
            "\n",
            "    accuracy                        0.49200      1000\n",
            "   macro avg    0.52762   0.49200   0.47192      1000\n",
            "weighted avg    0.52762   0.49200   0.47192      1000\n",
            "\n"
          ]
        },
        {
          "data": {
            "image/png": "[encoded data removed]",
            "text/plain": [
              "<Figure size 640x480 with 2 Axes>"
            ]
          },
          "metadata": {},
          "output_type": "display_data"
        }
      ],
      "source": [
        "# Evaluation metrics\n",
        "\n",
        "y_test_pred = np.array([np.argmax(x) for x in model.predict(X_test)])\n",
        "\n",
        "clf_report = metrics.classification_report(y_test, y_test_pred, digits = 5)\n",
        "print(clf_report)\n",
        "\n",
        "conf_matrix = metrics.confusion_matrix(y_test, y_test_pred)\n",
        "\n",
        "sns.heatmap(conf_matrix, annot = True)\n",
        "plt.xlabel(\"Predicted\")\n",
        "plt.ylabel(\"True\")\n",
        "plt.show()"
      ]
    },
    {
      "cell_type": "markdown",
      "id": "d872b8db-8063-4cb4-9758-f3fd18cbe732",
      "metadata": {
        "id": "d872b8db-8063-4cb4-9758-f3fd18cbe732"
      },
      "source": [
        "# Conclusion"
      ]
    }
  ],
  "metadata": {
    "kernelspec": {
      "display_name": "Python 3 (ipykernel)",
      "language": "python",
      "name": "python3"
    },
    "language_info": {
      "codemirror_mode": {
        "name": "ipython",
        "version": 3
      },
      "file_extension": ".py",
      "mimetype": "text/x-python",
      "name": "python",
      "nbconvert_exporter": "python",
      "pygments_lexer": "ipython3",
      "version": "3.11.5"
    },
    "colab": {
      "provenance": []
    }
  },
  "nbformat": 4,
  "nbformat_minor": 5
}